{
 "cells": [
  {
   "cell_type": "code",
   "id": "initial_id",
   "metadata": {
    "collapsed": true,
    "ExecuteTime": {
     "end_time": "2024-09-01T11:42:04.184189Z",
     "start_time": "2024-09-01T11:42:02.762236Z"
    }
   },
   "source": [
    "from pyspark.sql import SparkSession\n",
    "\n",
    "spark = SparkSession.builder \\\n",
    "    .appName(\"RealEstateDensityPriceAnalysis\") \\\n",
    "    .getOrCreate()\n",
    "\n",
    "data = spark.read.csv(\"dataset_with_neighbor.csv\", header=True, inferSchema=True, sep=',')\n",
    "data.printSchema()"
   ],
   "outputs": [
    {
     "name": "stdout",
     "output_type": "stream",
     "text": [
      "root\n",
      " |-- id_mutation: string (nullable = true)\n",
      " |-- date_mutation: date (nullable = true)\n",
      " |-- numero_disposition: integer (nullable = true)\n",
      " |-- nature_mutation: string (nullable = true)\n",
      " |-- valeur_fonciere: double (nullable = true)\n",
      " |-- adresse_numero: integer (nullable = true)\n",
      " |-- adresse_suffixe: string (nullable = true)\n",
      " |-- adresse_nom_voie: string (nullable = true)\n",
      " |-- adresse_code_voie: string (nullable = true)\n",
      " |-- code_postal: integer (nullable = true)\n",
      " |-- code_commune: string (nullable = true)\n",
      " |-- nom_commune: string (nullable = true)\n",
      " |-- code_departement: string (nullable = true)\n",
      " |-- ancien_code_commune: integer (nullable = true)\n",
      " |-- ancien_nom_commune: string (nullable = true)\n",
      " |-- id_parcelle: string (nullable = true)\n",
      " |-- ancien_id_parcelle: string (nullable = true)\n",
      " |-- numero_volume: string (nullable = true)\n",
      " |-- lot1_numero: string (nullable = true)\n",
      " |-- lot1_surface_carrez: double (nullable = true)\n",
      " |-- lot2_numero: string (nullable = true)\n",
      " |-- lot2_surface_carrez: string (nullable = true)\n",
      " |-- lot3_numero: string (nullable = true)\n",
      " |-- lot3_surface_carrez: string (nullable = true)\n",
      " |-- lot4_numero: string (nullable = true)\n",
      " |-- lot4_surface_carrez: string (nullable = true)\n",
      " |-- lot5_numero: string (nullable = true)\n",
      " |-- lot5_surface_carrez: string (nullable = true)\n",
      " |-- nombre_lots: integer (nullable = true)\n",
      " |-- code_type_local: integer (nullable = true)\n",
      " |-- type_local: string (nullable = true)\n",
      " |-- surface_reelle_bati: integer (nullable = true)\n",
      " |-- nombre_pieces_principales: integer (nullable = true)\n",
      " |-- code_nature_culture: string (nullable = true)\n",
      " |-- nature_culture: string (nullable = true)\n",
      " |-- code_nature_culture_speciale: string (nullable = true)\n",
      " |-- nature_culture_speciale: string (nullable = true)\n",
      " |-- surface_terrain: integer (nullable = true)\n",
      " |-- longitude: double (nullable = true)\n",
      " |-- latitude: double (nullable = true)\n",
      " |-- surface_totale: integer (nullable = true)\n",
      " |-- valeur_fonciere_proportionnelle: double (nullable = true)\n",
      " |-- prix_m2: double (nullable = true)\n",
      " |-- longitude_r: double (nullable = true)\n",
      " |-- latitude_r: double (nullable = true)\n",
      " |-- avg_neighbor_price: double (nullable = true)\n",
      " |-- avg_neighbor_dist: double (nullable = true)\n",
      "\n"
     ]
    }
   ],
   "execution_count": 2
  },
  {
   "metadata": {
    "ExecuteTime": {
     "end_time": "2024-09-01T11:42:06.018978Z",
     "start_time": "2024-09-01T11:42:04.283719Z"
    }
   },
   "cell_type": "code",
   "source": [
    "# Lire le CSV avec des options pour gérer les guillemets, les délimiteurs et les retours à la ligne\n",
    "df_density = spark.read.option(\"header\", \"true\") \\\n",
    "    .option(\"inferSchema\", \"true\") \\\n",
    "    .option(\"quote\", \"\\\"\") \\\n",
    "    .option(\"escape\", \"\\\"\") \\\n",
    "    .option(\"multiline\", \"true\") \\\n",
    "    .option(\"sep\", \",\") \\\n",
    "    .csv(\"communes.csv\")\n",
    "\n",
    "# Afficher le schéma pour vérifier les colonnes\n",
    "df_density.printSchema()"
   ],
   "id": "4177feeb2bab9638",
   "outputs": [
    {
     "name": "stdout",
     "output_type": "stream",
     "text": [
      "root\n",
      " |-- id: integer (nullable = true)\n",
      " |-- code_commune_INSEE: string (nullable = true)\n",
      " |-- nom_commune_postal: string (nullable = true)\n",
      " |-- code_postal: integer (nullable = true)\n",
      " |-- libelle_acheminement: string (nullable = true)\n",
      " |-- ligne_5: string (nullable = true)\n",
      " |-- latitude: double (nullable = true)\n",
      " |-- longitude: double (nullable = true)\n",
      " |-- code_commune: integer (nullable = true)\n",
      " |-- article: string (nullable = true)\n",
      " |-- nom_commune: string (nullable = true)\n",
      " |-- nom_commune_complet: string (nullable = true)\n",
      " |-- code_departement: string (nullable = true)\n",
      " |-- presentation: string (nullable = true)\n",
      " |-- slug: string (nullable = true)\n",
      " |-- surface: integer (nullable = true)\n",
      " |-- population: integer (nullable = true)\n",
      "\n"
     ]
    }
   ],
   "execution_count": 3
  },
  {
   "metadata": {
    "ExecuteTime": {
     "end_time": "2024-09-01T11:42:06.667655Z",
     "start_time": "2024-09-01T11:42:06.116137Z"
    }
   },
   "cell_type": "code",
   "source": "df_density.show(truncate=False)",
   "id": "d60e75f71f8cc272",
   "outputs": [
    {
     "name": "stdout",
     "output_type": "stream",
     "text": [
      "+---+------------------+-----------------------+-----------+-----------------------+-------+-----------+----------+------------+-------+---------------------+-----------------------+----------------+-------------------------------------------------------------------------------------------------------------------------------------------------------------------------------------------------------------------------------------------------------------------------------------------------------------------------------------------------------------------------------------------------------------------------------------------------------------------------------------------------------------------------------------------------------------------------------------------------------------------------------------------------------------------------------------------------------------------------------------------------------------------------------------------------------------------------------------------------------------------------------------------------------------------------------------------------------------------------------------------------------------------------------------------------------------------------------------------------------------------------------------------------------------------------------------------------------------------------------------------------------------------------------------------------------------------------------------------------------------------------------------------------------------------------------------------------------------------------------------------------------------------------------------------+-----------------------------+-------+----------+\n",
      "|id |code_commune_INSEE|nom_commune_postal     |code_postal|libelle_acheminement   |ligne_5|latitude   |longitude |code_commune|article|nom_commune          |nom_commune_complet    |code_departement|presentation                                                                                                                                                                                                                                                                                                                                                                                                                                                                                                                                                                                                                                                                                                                                                                                                                                                                                                                                                                                                                                                                                                                                                                                                                                                                                                                                                                                                                                                                                                                               |slug                         |surface|population|\n",
      "+---+------------------+-----------------------+-----------+-----------------------+-------+-----------+----------+------------+-------+---------------------+-----------------------+----------------+-------------------------------------------------------------------------------------------------------------------------------------------------------------------------------------------------------------------------------------------------------------------------------------------------------------------------------------------------------------------------------------------------------------------------------------------------------------------------------------------------------------------------------------------------------------------------------------------------------------------------------------------------------------------------------------------------------------------------------------------------------------------------------------------------------------------------------------------------------------------------------------------------------------------------------------------------------------------------------------------------------------------------------------------------------------------------------------------------------------------------------------------------------------------------------------------------------------------------------------------------------------------------------------------------------------------------------------------------------------------------------------------------------------------------------------------------------------------------------------------------------------------------------------------+-----------------------------+-------+----------+\n",
      "|26 |1001              |L ABERGEMENT CLEMENCIAT|1400       |L ABERGEMENT CLEMENCIAT|NULL   |46.15342552|4.92611354|1           |L'     |Abergement-Clémenciat|L'Abergement-Clémenciat|01              |L'Abergement-Clémenciat est une commune française située dans le département de l'Ain, en région Auvergne-Rhône-Alpes. Elle est située à environ 40 kilomètres au nord de la ville de Lyon.\\n\\nLa commune est née de la fusion en 1972 des communes de L'Abergement-de-Varey et de Clémenciat. Elle s'étend sur une superficie d'environ 8,5 km² et compte aujourd'hui environ 900 habitants.\\n\\nL'Abergement-Clémenciat est une petite commune typiquement rurale, avec des paysages vallonnés et des champs à perte de vue. Elle est traversée par le cours d'eau de la Sereine, qui la divise en deux parties : L'Abergement-de-Varey au nord et Clémenciat au sud.\\n\\nLa commune est dotée d'un patrimoine historique intéressant, notamment avec l'église romane de L'Abergement-de-Varey datant du 12e siècle, ainsi que des vestiges de fortifications. Le village de Clémenciat possède également une église datant du 19e siècle.\\n\\nL'Abergement-Clémenciat est une commune dynamique sur le plan associatif et culturel, avec notamment la présence d'une bibliothèque, d'un club de foot, d'une association de chasse, et de diverses activités proposées tout au long de l'année.\\n\\nEn résumé, L'Abergement-Clémenciat est une petite commune rurale de l'Ain dotée d'un patrimoine historique intéressant et d'une vie associative et culturelle dynamique.                                                                                                                                                                 |l-abergement-clemenciat-01400|1565   |779       |\n",
      "|27 |1002              |L ABERGEMENT DE VAREY  |1640       |L ABERGEMENT DE VAREY  |NULL   |46.00918788|5.42801696|2           |L'     |Abergement-de-Varey  |L'Abergement-de-Varey  |01              |La commune de L'Abergement-de-Varey est située dans le département de l'Ain en région Auvergne-Rhône-Alpes, dans l'est de la France. Elle est située à environ 60 km de Lyon et à 20 km de Bourg-en-Bresse.\\n\\nLa commune est constituée de deux villages, L'Abergement-de-Varey et Varey, et compte environ 500 habitants. Elle est traversée par la rivière d'Ain qui offre de magnifiques paysages pour les amoureux de la nature.\\n\\nL'Abergement-de-Varey est une commune rurale avec une économie essentiellement axée sur l'agriculture, l'élevage et la viticulture. Elle est également connue pour son patrimoine architectural et historique, avec notamment l'église Saint-Didier du XIIe siècle et le château de Varey du XVIIe siècle.\\n\\nLa commune offre également plusieurs manifestations tout au long de l'année, comme la Fête du Vin et de la Gastronomie en septembre ou encore la Fête de la Musique en juin.\\n\\nEn résumé, L'Abergement-de-Varey est une charmante petite commune rurale au patrimoine riche et offrant des paysages naturels exceptionnels.                                                                                                                                                                                                                                                                                                                                                                                                                                                        |l-abergement-de-varey-01640  |919    |256       |\n",
      "|28 |1004              |AMBERIEU EN BUGEY      |1500       |AMBERIEU EN BUGEY      |NULL   |45.96084751|5.37292578|4           |NULL   |Ambérieu-en-Bugey    |Ambérieu-en-Bugey      |01              |Ambérieu-en-Bugey est une commune française située dans le département de l'Ain, en région Auvergne-Rhône-Alpes. Elle compte environ 14 000 habitants et est la troisième ville la plus peuplée de l'Ain.\\n\\nL'histoire d'Ambérieu-en-Bugey remonte à l'époque gallo-romaine. Au Moyen Âge, la ville est une étape importante sur la route du sel, qui relie la Méditerranée à la région parisienne.\\n\\nAujourd'hui, Ambérieu-en-Bugey est une ville dynamique, avec de nombreux commerces et entreprises. Elle est notamment connue pour son marché traditionnel qui se tient tous les mardis et vendredis matin sur la place du Champ de Foire.\\n\\nLa ville possède également un riche patrimoine culturel, notamment la tour médiévale du château de Saint-Germain, la chapelle Saint-Michel, l’église de la Nativité-de-la-Vierge, la ville a aussi connu la présence notable d'un pionnier de l'aviation Antoine de Saint-Exupéry et un musée lui est dédié.\\n\\nAmbérieu-en-Bugey est aussi connue pour ses espaces verts, notamment le parc des Oiseaux qui accueille de nombreuses espèces d'oiseaux, mais aussi des animaux de la ferme et des parcs d'attractions pour les enfants.\\n\\nEnfin, la ville est bien desservie par les transports en commun, avec une gare SNCF desservant Paris et Lyon, et son agglomération est bien desservie par le réseau d'autocars de la communauté d'agglomération du Bassin de vie d'Ambérieu-en-Bugey, ainsi que par l'aéroport international de Lyon-Saint-Exupéry à 35 minutes de voiture.|amberieu-en-bugey-01500      |2455   |14134     |\n",
      "|29 |1005              |AMBERIEUX EN DOMBES    |1330       |AMBERIEUX EN DOMBES    |NULL   |45.99617999|4.91227251|5           |NULL   |Ambérieux-en-Dombes  |Ambérieux-en-Dombes    |01              |Ambérieux-en-Dombes est une petite commune française située dans le département de l'Ain, en région Auvergne-Rhône-Alpes. Elle est composée de trois hameaux distincts : Ambérieux, le Moulin du Monceau et le Moulin de la Barge. \\n\\nLa commune est connue pour son patrimoine, notamment son église romane du XIIème siècle, classée monument historique. La chapelle de la Vierge, qui date du XIVème siècle, est également à voir. Les amateurs de nature apprécieront aussi la présence de l'étang de la Dombes, un des plus grands plans d'eau en France.\\n\\nAmbérieux-en-Dombes est également réputée pour sa gastronomie, avec notamment la fameuse volaille de Bresse, élevée dans les fermes environnantes. La commune bénéficie également d'un tissu économique dynamique, avec plusieurs entreprises de renom implantées dans la région.\\n\\nEn somme, Ambérieux-en-Dombes est une petite commune pleine de charme, alliant nature, patrimoine et gastronomie de qualité.                                                                                                                                                                                                                                                                                                                                                                                                                                                                                                                                                      |amberieux-en-dombes-01330    |1604   |1751      |\n",
      "|30 |1006              |AMBLEON                |1300       |AMBLEON                |NULL   |45.7494989 |5.59432017|6           |NULL   |Ambléon              |Ambléon                |01              |Ambléon est une petite commune située dans le département de l'Ain, dans la région Auvergne-Rhône-Alpes en France. Elle est située dans le Bugey, près des montagnes du Jura.\\n\\nLa commune est peuplée d'environ 160 habitants et couvre une superficie de 580 hectares. Elle est traversée par le ruisseau de la Frasse qui se jette dans le Rhône.\\n\\nAmbléon est connue pour son église Saint-Martin avec son clocher à bulbe qui date du XVIIe siècle et qui est classée monument historique. La commune dispose également de plusieurs circuits de randonnées qui permettent de découvrir les paysages naturels de la région.\\n\\nL'économie de la commune repose principalement sur l'activité agricole, avec la production de céréales, de foin et l'élevage de bovins. Il y a également quelques petites entreprises artisanales et commerciales.\\n\\nEn résumé, Ambléon est une petite commune pleine de charme qui est idéale pour les amoureux de la nature et de la tranquillité.                                                                                                                                                                                                                                                                                                                                                                                                                                                                                                                                               |ambleon-01300                |604    |112       |\n",
      "|31 |1007              |AMBRONAY               |1500       |AMBRONAY               |NULL   |46.00559138|5.35760661|7           |NULL   |Ambronay             |Ambronay               |01              |La commune d'Ambronay est située dans le département de l'Ain en région Auvergne-Rhône-Alpes, dans l'est de la France. Elle est connue pour son patrimoine culturel, notamment l'abbaye d'Ambronay, fondée au 8ème siècle. C'est aujourd'hui un centre culturel dédié à la musique baroque.\\n\\nLa commune compte environ 2 600 habitants, répartis sur une superficie de 27,05 km². Elle est située à une altitude moyenne de 300 mètres et est traversée par la rivière Veyle.\\n\\nAmbronay offre également de nombreux services et équipements à ses habitants, tels que des écoles, une bibliothèque, une salle de sport, un parcours de santé et des sentiers de randonnée.\\n\\nEnfin, la commune célèbre chaque année la fête de la musique et organise des événements culturels tout au long de l'année pour le plaisir de ses habitants et des visiteurs.                                                                                                                                                                                                                                                                                                                                                                                                                                                                                                                                                                                                                                                                             |ambronay-01500               |3371   |2800      |\n",
      "|32 |1008              |AMBUTRIX               |1500       |AMBUTRIX               |NULL   |45.93671345|5.33280923|8           |NULL   |Ambutrix             |Ambutrix               |01              |Ambutrix est une petite commune située dans le département de l'Ain en région Auvergne-Rhône-Alpes, en France. Elle compte environ 900 habitants et s'étend sur une surface de 7 km².\\n\\nAmbutrix est une commune tranquille et paisible, offrant un cadre de vie agréable à ses habitants. Elle est entourée de collines verdoyantes et de vastes champs, avec de nombreux sentiers de randonnée à explorer.\\n\\nLe patrimoine historique de la commune est riche et varié, avec des vestiges attestant de l'occupation romaine, comme la Villa de la Combe-Muzet, ainsi que de belles églises romanes et gothiques, comme l'église Saint-Roch et l'église Saint-Jean-Baptiste. Ambutrix possède également une ancienne chapelle, la chapelle de Notre-Dame-de-l'Ancienneté, datant du XIe siècle, qui fait partie des plus anciennes du département.\\n\\nLa commune dispose également de plusieurs équipements publics, tels qu'une école primaire, une bibliothèque, un terrain de sport et une salle des fêtes, ainsi que des commerces de proximité, comprenant une boulangerie, une épicerie et un bar-restaurant.\\n\\nEnfin, Ambutrix organise tout au long de l'année diverses manifestations et événements pour animer la vie de la commune, notamment des marchés, des fêtes de village et des spectacles culturels.                                                                                                                                                                                                                |ambutrix-01500               |518    |762       |\n",
      "|33 |1009              |ANDERT ET CONDON       |1300       |ANDERT ET CONDON       |NULL   |45.78735653|5.65788308|9           |NULL   |Andert-et-Condon     |Andert-et-Condon       |01              |Andert-et-Condon est une commune française située dans le département de l'Ain, en région Auvergne-Rhône-Alpes. Elle est située dans la magnifique région du Bugey, entre Lyon et Genève.\\n\\nLa commune couvre une superficie de 9,78 km² et compte environ 700 habitants. Elle est entourée de paysages vallonnés, de collines verdoyantes et de vignobles pittoresques.\\n\\nLa commune d'Andert-et-Condon est composée de deux villages : Andert, situé sur un plateau au pied du mont Saint-Roch, et Condon, situé dans la vallée de l'Albarine. Les deux villages sont reliés par une route départementale.\\n\\nAndert-et-Condon possède un riche patrimoine historique, notamment avec l'église Saint-Maurice, qui date du 11ème siècle, ainsi que plusieurs vestiges de l'époque romaine. La commune offre aux visiteurs de nombreuses activités, notamment la découverte des vignobles de la région, des sentiers de randonnée, des musées et des monuments historiques.\\n\\nEn résumé, Andert-et-Condon est une charmante commune française offrant un véritable havre de paix à ceux qui souhaitent se reposer et profiter de la beauté naturelle de la région.                                                                                                                                                                                                                                                                                                                                                                      |andert-et-condon-01300       |701    |326       |\n",
      "|34 |1010              |ANGLEFORT              |1350       |ANGLEFORT              |NULL   |45.90937151|5.79516006|10          |NULL   |Anglefort            |Anglefort              |01              |Angelfort est une charmante commune de France située dans le département de l'Ain, en région Auvergne-Rhône-Alpes. Cette commune se trouve à environ 17 km au nord-ouest d'Aix-les-Bains, et sa situation géographique est propice à la fois pour les activités de montagne et les activités nautiques.\\n\\nLe village d'Anglefort est situé sur une colline et offre une vue imprenable sur les montagnes environnantes. La commune est traversée par la rivière Le Furans, un affluent du Rhône, offrant ainsi de belles opportunités pour la pêche et les activités nautiques.\\n\\nAnglefort est également connue pour son riche patrimoine historique et culturel. La commune compte plusieurs édifices remarquables, tels que l'église Saint-Jean-Baptiste, le château du Maréchal de Lattre de Tassigny et la chapelle Saint-Roch.\\n\\nEn plus de son patrimoine culturel et naturel, Anglefort offre un cadre de vie agréable pour ses habitants. La commune dispose de plusieurs équipements sportifs, tels qu'un stade de foot, des terrains de tennis, un parcours de santé et une salle polyvalente.\\n\\nEn somme, Anglefort est une commune dynamique de France qui allie harmonieusement patrimoine culturel et naturel, activités sportives et vie de village.                                                                                                                                                                                                                                                                   |anglefort-01350              |2956   |1105      |\n",
      "|35 |1011              |APREMONT               |1100       |APREMONT               |NULL   |46.20549816|5.65781475|11          |NULL   |Apremont             |Apremont               |01              |Apremont est une commune française située dans le département de la Vendée, dans la région Pays de la Loire. Elle compte environ 1 200 habitants et se caractérise par son patrimoine historique et naturel.\\n\\nLe château d'Apremont, situé en plein cœur de la commune, est sans doute l'un des monuments les plus emblématiques de la ville. Construit au XVIIème siècle, ce château a été restauré au XIXème siècle, et se visite aujourd'hui en partie.\\n\\nOutre son château, Apremont possède également un riche patrimoine naturel. La commune est bordée par un lac artificiel aménagé en 1948, sur la rivière la Vie. Cette base de loisirs permet la pratique de nombreux sports nautiques, comme le canoë-kayak, le pédalo ou encore la planche à voile. Les alentours d'Apremont sont également propices à la randonnée à pied et à vélo, avec plusieurs circuits balisés.\\n\\nApremont est également une commune vivante, avec une vie associative et culturelle riche. Elle accueille chaque année plusieurs événements, comme la fête de la Saint-Jean au mois de juin, ou encore le marché de Noël en décembre.\\n\\nEn résumé, Apremont est une commune vendéenne authentique, conjuguant patrimoine historique et naturel remarquable, ainsi qu'une vie locale animée.                                                                                                                                                                                                                                                      |apremont-01100               |1507   |368       |\n",
      "|36 |1012              |ARANC                  |1110       |ARANC                  |NULL   |46.0015344 |5.51130638|12          |NULL   |Aranc                |Aranc                  |01              |Aranc est une petite commune de l'Ain, dans la région Auvergne-Rhône-Alpes, située dans le massif du Jura. Elle compte environ 350 habitants et s'étend sur une superficie de 15,87 km².\\n\\nAranc est un village traditionnellement agricole, avec des fermes et des pâturages qui s'étendent à travers la campagne environnante. Les activités économiques principales sont donc liées à l'agriculture, la production laitière et la transformation du lait en fromages.\\n\\nLe village dispose cependant de quelques commerces et services, avec notamment une épicerie, une boulangerie, une pharmacie et un garage.\\n\\nAranc possède également de nombreux atouts touristiques, avec notamment la présence de la réserve naturelle de la haute chaîne du Jura, qui abrite de nombreux lacs et rivières. Les randonneurs et les amateurs de sports de plein air apprécieront particulièrement les paysages exceptionnels de la région.\\n\\nParmi les sites touristiques à visiter, on peut citer l'église Saint-André, construite au XIIIe siècle et classée monument historique, ou encore la chapelle Notre-Dame des Ermites, située sur les hauteurs du village et offrant un panorama exceptionnel sur les montagnes environnantes.\\n\\nEn résumé, Aranc est une commune paisible et charmante, propice à la découverte de la nature et du patrimoine culturel de la région.                                                                                                                                                           |aranc-01110                  |2171   |329       |\n",
      "|37 |1013              |ARANDAS                |1230       |ARANDAS                |NULL   |45.89081553|5.49870439|13          |NULL   |Arandas              |Arandas                |01              |Je suis désolé, mais il y a une erreur dans votre demande. Il n'y a pas de commune d'Arandas en France. Arandas est en fait une commune située dans le département de l'Ain en région Auvergne-Rhône-Alpes en France. Cette petite commune de moins de 200 habitants est connue pour ses beaux paysages boisés, ses sentiers de randonnée, ainsi que pour son église du XIXe siècle et son château du XVIIIe siècle. Elle est également célèbre pour sa production de vin blancs de qualité, notamment le cépage Chardonnay.                                                                                                                                                                                                                                                                                                                                                                                                                                                                                                                                                                                                                                                                                                                                                                                                                                                                                                                                                                                                               |arandas-01230                |1405   |143       |\n",
      "|38 |1014              |ARBENT                 |1100       |ARBENT                 |NULL   |46.2834936 |5.69061651|14          |NULL   |Arbent               |Arbent                 |01              |Arbent est une petite commune française située dans le département de l'Ain, en région Auvergne-Rhône-Alpes. Elle fait partie de l'agglomération d'Oyonnax et compte environ 4 000 habitants.\\n\\nLa commune est située dans les contreforts du massif du Jura et s'étend sur une superficie de 5,5 km². Elle est entourée par les communes de Oyonnax, Martignat, Bellignat et Montreal-la-Cluse.\\n\\nArbent possède un riche patrimoine culturel et historique, avec notamment l'église Saint-Martin, construite au XIIIe siècle, ainsi que plusieurs maisons anciennes du XVIIIe siècle.\\n\\nLa commune offre également de nombreuses activités de loisirs, avec ses parcs et ses espaces verts, ses sentiers de randonnée et son lac de la Villerest. Elle dispose également d'équipements sportifs modernes, tels que des terrains de football, des courts de tennis et une piscine municipale.\\n\\nArbent est une commune dynamique et attractive, qui bénéficie d'une situation géographique privilégiée, à proximité de l'autoroute A404 et de la gare d'Oyonnax. Elle est également proche de plusieurs sites touristiques prestigieux, tels que le Parc naturel régional du Haut-Jura et la ville de Genève.                                                                                                                                                                                                                                                                                                                         |arbent-01100                 |2367   |3349      |\n",
      "|39 |1015              |ARBOYS EN BUGEY        |1300       |ARBOYS EN BUGEY        |ST BOIS|45.72376215|5.65263086|15          |NULL   |Arboys en Bugey      |Arboys en Bugey        |01              |La commune d'Arboys en Bugey est située dans la région Auvergne-Rhône-Alpes, dans le département de l'Ain en France. Avec une superficie de 9,2 km², elle compte environ 1700 habitants.\\n\\nArboys en Bugey est une commune rurale qui fait partie du parc naturel régional du Pilat. Elle est entourée de montagnes, de bois et de prairies, offrant ainsi de magnifiques paysages pour des activités de plein air et de randonnée.\\n\\nLa commune possède également un riche patrimoine historique et culturel, avec notamment l'église Saint-Pierre datant du XIème siècle, ainsi que plusieurs bâtiments anciens comme le château de la Roche ou encore le four à pain communal. \\n\\nArboys en Bugey est une commune dynamique qui offre une belle qualité de vie à ses habitants, avec ses nombreux commerces, artisans et associations. Elle organise également de nombreux événements tout au long de l'année, comme la fête de la musique ou encore la fête patronale en septembre.                                                                                                                                                                                                                                                                                                                                                                                                                                                                                                                                                 |arboys-en-bugey-01300        |2261   |650       |\n",
      "|40 |1016              |ARBIGNY                |1190       |ARBIGNY                |NULL   |46.4776763 |4.95994169|16          |NULL   |Arbigny              |Arbigny                |01              |Arbigny est une petite commune française située dans le département de l'Ain en région Auvergne-Rhône-Alpes. La commune compte environ 480 habitants et s'étend sur une superficie de 10,96 km².\\n\\nLe village est situé dans la vallée de la Seille, près de la ville de Louhans. La commune est bordée par la forêt de la Fée, offrant de belles balades en pleine nature.\\n\\nArbigny est une commune agricole, avec une activité dominante dans l'élevage bovin. Les terres cultivées de la commune sont utilisées pour la production de céréales, de maïs et de colza.\\n\\nLe patrimoine architectural de la commune comprend notamment l'église Saint-Gervais-Saint-Protais, qui date de 1735 et qui a été construite sur l'emplacement d'un ancien édifice du XIIème siècle. On peut également y voir de belles maisons anciennes en pierre, typiques de la région.\\n\\nAu niveau des loisirs, Arbigny offre plusieurs sentiers de randonnée pour découvrir son patrimoine naturel et culturel. La commune dispose également d'un terrain de pétanque et d'une aire de jeux pour les enfants.                                                                                                                                                                                                                                                                                                                                                                                                                                          |arbigny-01190                |1754   |460       |\n",
      "|41 |1017              |ARGIS                  |1230       |ARGIS                  |NULL   |45.93371821|5.482511  |17          |NULL   |Argis                |Argis                  |01              |Argis est une commune française située dans le département de l'Ain, en région Auvergne-Rhône-Alpes. Elle est située à environ 50 kilomètres de Lyon et à 80 kilomètres de Genève.\\n\\nLa commune d'Argis est constituée de plusieurs hameaux et lieux-dits, dont le plus important est le chef-lieu, situé en haut d'une colline, offrant une vue panoramique sur la vallée de l'Albarine.\\n\\nLa commune d'Argis est une commune rurale, avec une importante activité agricole, notamment dans les domaines de l'élevage, de la culture des céréales et de la production de fromages.\\n\\nArgis possède également de nombreux sentiers de randonnée, qui permettent de découvrir la nature environnante, ainsi que des sites naturels remarquables, tels que la cascade de Glandieu.\\n\\nLa commune d'Argis compte environ 300 habitants et offre un cadre de vie calme et agréable, propice à la détente et à la pratique d'activités de plein air.                                                                                                                                                                                                                                                                                                                                                                                                                                                                                                                                                                                         |argis-01230                  |782    |457       |\n",
      "|42 |1019              |ARMIX                  |1510       |ARMIX                  |NULL   |45.85418385|5.58357839|19          |NULL   |Armix                |Armix                  |01              |Armix est une petite commune située dans le département de l'Yonne en région Bourgogne-Franche-Comté. Elle compte environ 150 habitants et a une superficie de 5,1 km². Le village est entouré de forêts et de champs, offrant ainsi un cadre rural et paisible. Armix possède une église du XIIIe siècle qui est classée monument historique. Les activités principales de la commune sont l'agriculture et la viticulture. La commune est également située à proximité du célèbre vignoble de Chablis, ce qui en fait une destination prisée par les amateurs de vin. Les habitants d'Armix ont construit une petite bibliothèque communale qui permet de découvrir une multitude de livres, romans ou manuels pour tous les âges.                                                                                                                                                                                                                                                                                                                                                                                                                                                                                                                                                                                                                                                                                                                                                                                                       |armix-01510                  |697    |27        |\n",
      "|43 |1021              |ARS SUR FORMANS        |1480       |ARS SUR FORMANS        |NULL   |45.9934611 |4.82199649|21          |NULL   |Ars-sur-Formans      |Ars-sur-Formans        |01              |Ars-sur-Formans est une commune française située dans le département de l'Ain, en région Auvergne-Rhône-Alpes. Elle est surtout connue pour sa basilique, construite en hommage à Saint Jean-Marie Vianney, curé d'Ars de 1824 à 1859, et patron des prêtres du monde entier.\\n\\nAvec ses maisons en pierre, ses rues pavées et son marché typique, le village d'Ars-sur-Formans est un exemple parfait de l'architecture locale. La Basilique d'Ars, de style néo-gothique, est particulièrement remarquable et attire chaque année de nombreux visiteurs. L'intérieur de la basilique est richement décoré avec des fresques, des vitraux et des sculptures en bois de chêne réalisées par les artisans les plus talentueux de l'époque.\\n\\nAujourd'hui, Ars-sur-Formans reste un lieu de pèlerinage important pour les catholiques, attirant plus de 400 000 pèlerins chaque année. La ville est également un point de départ idéal pour explorer la région, notamment pour découvrir les vignobles du Beaujolais ou les merveilles de la ville médiévale de Pérouges.\\n\\nEn résumé, Ars-sur-Formans est une commune française pleine d'histoire et de charme, avec des monuments religieux et une culture locale qui attirent les visiteurs du monde entier.                                                                                                                                                                                                                                                                           |ars-sur-formans-01480        |552    |1457      |\n",
      "|44 |1022              |ARTEMARE               |1510       |ARTEMARE               |NULL   |45.86958917|5.69065284|22          |NULL   |Artemare             |Artemare               |01              |Artemare est une commune française située dans le département de l'Ain, en région Auvergne-Rhône-Alpes. Elle fait partie de l'arrondissement de Belley et du canton de Belley.\\n\\nLa commune est située sur les rives du Rhône et elle est limitrophe des départements de la Savoie et de l'Isère. Elle s'étend sur une superficie de 29,40 km2 et compte environ 1 200 habitants.\\n\\nArtemare est une commune rurale qui possède un riche patrimoine historique, témoignage de son passé médiéval. On peut notamment y visiter l'imposante église Saint-Maurice, datant du XIIIe siècle.\\n\\nLa commune est également connue pour ses paysages naturels exceptionnels, entre les montagnes du Bugey et le fleuve Rhône. C'est un lieu idéal pour les amoureux de la nature, qui peuvent y pratiquer de nombreuses activités de plein air, comme la randonnée, le VTT ou encore la pêche.\\n\\nArtemare est une destination idéale pour les vacanciers qui recherchent la tranquillité et la beauté des paysages naturels.                                                                                                                                                                                                                                                                                                                                                                                                                                                                                                                    |artemare-01510               |332    |1249      |\n",
      "|45 |1023              |ASNIERES SUR SAONE     |1570       |ASNIERES SUR SAONE     |NULL   |46.38572814|4.88387479|23          |NULL   |Asnières-sur-Saône   |Asnières-sur-Saône     |01              |Asnières-sur-Saône est une petite commune française située dans le département de Saône-et-Loire en région Bourgogne-Franche-Comté. La ville est située au nord-est du département, à environ 80 kilomètres au nord de la ville de Lyon et à 20 kilomètres au sud de la ville de Chalon-sur-Saône.\\n\\nLa ville d'Asnières-sur-Saône compte environ 660 habitants et est située sur les rives de la Saône, dans une région riche en vignobles. La ville est entourée de magnifiques paysages naturels, notamment de vastes forêts et de champs de vignes, ce qui en fait un lieu de villégiature idéal pour les amateurs de plein air.\\n\\nLa ville est également connue pour son église Saint-Pierre, un magnifique bâtiment ancien datant du XIIe siècle qui possède des éléments architecturaux de style roman et gothique. La ville offre également une foule d'activités culturelles, notamment des festivals de musique, des expositions d'art et des événements gastronomiques.\\n\\nDans l'ensemble, Asnières-sur-Saône est une charmante petite ville qui offre de nombreuses possibilités de loisirs en plein air et de découvertes culturelles. C'est un lieu de vacances idéal pour ceux qui cherchent à passer un moment paisible dans la campagne française.                                                                                                                                                                                                                                                                     |asnieres-sur-saone-01570     |467    |76        |\n",
      "+---+------------------+-----------------------+-----------+-----------------------+-------+-----------+----------+------------+-------+---------------------+-----------------------+----------------+-------------------------------------------------------------------------------------------------------------------------------------------------------------------------------------------------------------------------------------------------------------------------------------------------------------------------------------------------------------------------------------------------------------------------------------------------------------------------------------------------------------------------------------------------------------------------------------------------------------------------------------------------------------------------------------------------------------------------------------------------------------------------------------------------------------------------------------------------------------------------------------------------------------------------------------------------------------------------------------------------------------------------------------------------------------------------------------------------------------------------------------------------------------------------------------------------------------------------------------------------------------------------------------------------------------------------------------------------------------------------------------------------------------------------------------------------------------------------------------------------------------------------------------------+-----------------------------+-------+----------+\n",
      "only showing top 20 rows\n",
      "\n"
     ]
    }
   ],
   "execution_count": 4
  },
  {
   "metadata": {
    "ExecuteTime": {
     "end_time": "2024-09-01T11:42:06.990396Z",
     "start_time": "2024-09-01T11:42:06.707846Z"
    }
   },
   "cell_type": "code",
   "source": [
    "from pyspark.sql.functions import col\n",
    "\n",
    "df_density = df_density.select(\"code_commune_INSEE\", \"population\", \"surface\")\n",
    "\n",
    "# Calculer la densité de population\n",
    "df_density = df_density.withColumn(\n",
    "    \"density\", \n",
    "    col(\"population\") / (col(\"surface\")/100)\n",
    ")\n",
    "df_density = df_density.select(\"code_commune_INSEE\", \"density\")\n",
    "\n",
    "df_density.show()"
   ],
   "id": "5f886dfa030e5e1c",
   "outputs": [
    {
     "name": "stdout",
     "output_type": "stream",
     "text": [
      "+------------------+------------------+\n",
      "|code_commune_INSEE|           density|\n",
      "+------------------+------------------+\n",
      "|              1001| 49.77635782747604|\n",
      "|              1002|27.856365614798694|\n",
      "|              1004| 575.7230142566191|\n",
      "|              1005|109.16458852867831|\n",
      "|              1006|18.543046357615893|\n",
      "|              1007| 83.06140611094631|\n",
      "|              1008|147.10424710424712|\n",
      "|              1009| 46.50499286733238|\n",
      "|              1010| 37.38159675236807|\n",
      "|              1011|24.419376244193764|\n",
      "|              1012|15.154306771073237|\n",
      "|              1013|10.177935943060497|\n",
      "|              1014|141.48711449091675|\n",
      "|              1015|28.748341441839894|\n",
      "|              1016|26.225769669327253|\n",
      "|              1017| 58.43989769820972|\n",
      "|              1019|3.8737446197991394|\n",
      "|              1021| 263.9492753623189|\n",
      "|              1022|376.20481927710847|\n",
      "|              1023| 16.27408993576017|\n",
      "+------------------+------------------+\n",
      "only showing top 20 rows\n",
      "\n"
     ]
    }
   ],
   "execution_count": 5
  },
  {
   "metadata": {
    "ExecuteTime": {
     "end_time": "2024-09-01T11:42:10.039403Z",
     "start_time": "2024-09-01T11:42:07.066139Z"
    }
   },
   "cell_type": "code",
   "source": [
    "# Joindre le DataFrame principal avec le DataFrame de densité de population\n",
    "print(\"Nombre de lignes avant jointure : \", data.count())\n",
    "data_wd = data.join(df_density, data.code_commune == df_density.code_commune_INSEE, how=\"left\")\n",
    "print(\"Nombre de lignes après jointure : \", data_wd.count())"
   ],
   "id": "7fdb359b66c246a6",
   "outputs": [
    {
     "name": "stdout",
     "output_type": "stream",
     "text": [
      "Nombre de lignes avant jointure :  206946\n",
      "Nombre de lignes après jointure :  206946\n"
     ]
    }
   ],
   "execution_count": 6
  },
  {
   "metadata": {
    "ExecuteTime": {
     "end_time": "2024-09-01T11:42:10.083767Z",
     "start_time": "2024-09-01T11:42:10.076934Z"
    }
   },
   "cell_type": "code",
   "source": [
    "# Afficher le schéma pour vérifier les colonnes\n",
    "data_wd.printSchema()"
   ],
   "id": "ed08b81c1ca8b3bb",
   "outputs": [
    {
     "name": "stdout",
     "output_type": "stream",
     "text": [
      "root\n",
      " |-- id_mutation: string (nullable = true)\n",
      " |-- date_mutation: date (nullable = true)\n",
      " |-- numero_disposition: integer (nullable = true)\n",
      " |-- nature_mutation: string (nullable = true)\n",
      " |-- valeur_fonciere: double (nullable = true)\n",
      " |-- adresse_numero: integer (nullable = true)\n",
      " |-- adresse_suffixe: string (nullable = true)\n",
      " |-- adresse_nom_voie: string (nullable = true)\n",
      " |-- adresse_code_voie: string (nullable = true)\n",
      " |-- code_postal: integer (nullable = true)\n",
      " |-- code_commune: string (nullable = true)\n",
      " |-- nom_commune: string (nullable = true)\n",
      " |-- code_departement: string (nullable = true)\n",
      " |-- ancien_code_commune: integer (nullable = true)\n",
      " |-- ancien_nom_commune: string (nullable = true)\n",
      " |-- id_parcelle: string (nullable = true)\n",
      " |-- ancien_id_parcelle: string (nullable = true)\n",
      " |-- numero_volume: string (nullable = true)\n",
      " |-- lot1_numero: string (nullable = true)\n",
      " |-- lot1_surface_carrez: double (nullable = true)\n",
      " |-- lot2_numero: string (nullable = true)\n",
      " |-- lot2_surface_carrez: string (nullable = true)\n",
      " |-- lot3_numero: string (nullable = true)\n",
      " |-- lot3_surface_carrez: string (nullable = true)\n",
      " |-- lot4_numero: string (nullable = true)\n",
      " |-- lot4_surface_carrez: string (nullable = true)\n",
      " |-- lot5_numero: string (nullable = true)\n",
      " |-- lot5_surface_carrez: string (nullable = true)\n",
      " |-- nombre_lots: integer (nullable = true)\n",
      " |-- code_type_local: integer (nullable = true)\n",
      " |-- type_local: string (nullable = true)\n",
      " |-- surface_reelle_bati: integer (nullable = true)\n",
      " |-- nombre_pieces_principales: integer (nullable = true)\n",
      " |-- code_nature_culture: string (nullable = true)\n",
      " |-- nature_culture: string (nullable = true)\n",
      " |-- code_nature_culture_speciale: string (nullable = true)\n",
      " |-- nature_culture_speciale: string (nullable = true)\n",
      " |-- surface_terrain: integer (nullable = true)\n",
      " |-- longitude: double (nullable = true)\n",
      " |-- latitude: double (nullable = true)\n",
      " |-- surface_totale: integer (nullable = true)\n",
      " |-- valeur_fonciere_proportionnelle: double (nullable = true)\n",
      " |-- prix_m2: double (nullable = true)\n",
      " |-- longitude_r: double (nullable = true)\n",
      " |-- latitude_r: double (nullable = true)\n",
      " |-- avg_neighbor_price: double (nullable = true)\n",
      " |-- avg_neighbor_dist: double (nullable = true)\n",
      " |-- code_commune_INSEE: string (nullable = true)\n",
      " |-- density: double (nullable = true)\n",
      "\n"
     ]
    }
   ],
   "execution_count": 7
  },
  {
   "metadata": {
    "ExecuteTime": {
     "end_time": "2024-09-01T11:42:11.861155Z",
     "start_time": "2024-09-01T11:42:10.271035Z"
    }
   },
   "cell_type": "code",
   "source": "data_wd.show(truncate=False)",
   "id": "38644457248447ba",
   "outputs": [
    {
     "name": "stdout",
     "output_type": "stream",
     "text": [
      "+-----------+-------------+------------------+---------------+---------------+--------------+---------------+--------------------------+-----------------+-----------+------------+-----------------------+----------------+-------------------+------------------+--------------+------------------+-------------+-----------+-------------------+-----------+-------------------+-----------+-------------------+-----------+-------------------+-----------+-------------------+-----------+---------------+-----------+-------------------+-------------------------+-------------------+--------------+----------------------------+-----------------------+---------------+---------+---------+--------------+-------------------------------+------------------+-------------------+------------------+------------------+---------------------+------------------+------------------+\n",
      "|id_mutation|date_mutation|numero_disposition|nature_mutation|valeur_fonciere|adresse_numero|adresse_suffixe|adresse_nom_voie          |adresse_code_voie|code_postal|code_commune|nom_commune            |code_departement|ancien_code_commune|ancien_nom_commune|id_parcelle   |ancien_id_parcelle|numero_volume|lot1_numero|lot1_surface_carrez|lot2_numero|lot2_surface_carrez|lot3_numero|lot3_surface_carrez|lot4_numero|lot4_surface_carrez|lot5_numero|lot5_surface_carrez|nombre_lots|code_type_local|type_local |surface_reelle_bati|nombre_pieces_principales|code_nature_culture|nature_culture|code_nature_culture_speciale|nature_culture_speciale|surface_terrain|longitude|latitude |surface_totale|valeur_fonciere_proportionnelle|prix_m2           |longitude_r        |latitude_r        |avg_neighbor_price|avg_neighbor_dist    |code_commune_INSEE|density           |\n",
      "+-----------+-------------+------------------+---------------+---------------+--------------+---------------+--------------------------+-----------------+-----------+------------+-----------------------+----------------+-------------------+------------------+--------------+------------------+-------------+-----------+-------------------+-----------+-------------------+-----------+-------------------+-----------+-------------------+-----------+-------------------+-----------+---------------+-----------+-------------------+-------------------------+-------------------+--------------+----------------------------+-----------------------+---------------+---------+---------+--------------+-------------------------------+------------------+-------------------+------------------+------------------+---------------------+------------------+------------------+\n",
      "|2023-100057|2023-05-20   |1                 |Vente          |59000.0        |8             |NULL           |AV PASTEUR                |0580             |10160      |10003       |Aix-Villemaur-Pâlis    |10              |NULL               |NULL              |10003000AC0371|NULL              |NULL         |NULL       |NULL               |NULL       |NULL               |NULL       |NULL               |NULL       |NULL               |NULL       |NULL               |0          |1              |Maison     |70                 |3                        |S                  |sols          |NULL                        |NULL                   |482            |3.738912 |48.220966|140           |29500.0                        |421.42857142857144|0.06525632484232623|0.84161462519224  |1331.4240830001195|5.092131197376806E-5 |10003             |47.110402550817064|\n",
      "|2023-100118|2023-05-23   |1                 |Vente          |30000.0        |34            |NULL           |RUE SAINT JEAN            |0755             |10230      |10216       |Mailly-le-Camp         |10              |NULL               |NULL              |10216000AE0373|NULL              |NULL         |NULL       |NULL               |NULL       |NULL               |NULL       |NULL               |NULL       |NULL               |NULL       |NULL               |0          |1              |Maison     |61                 |4                        |S                  |sols          |NULL                        |NULL                   |440            |4.199571 |48.67211 |61            |30000.0                        |491.8032786885246 |0.07329634112127079|0.8494885733928573|805.4872797632579 |7.842571844299544E-5 |10216             |45.005820721769496|\n",
      "|2023-100152|2023-05-16   |1                 |Vente          |45000.0        |3             |NULL           |RUE VOIE CREUSE           |0040             |10190      |10142       |Estissac               |10              |NULL               |NULL              |101420000E0610|NULL              |NULL         |NULL       |NULL               |NULL       |NULL               |NULL       |NULL               |NULL       |NULL               |NULL       |NULL               |0          |1              |Maison     |40                 |2                        |S                  |sols          |NULL                        |NULL                   |518            |3.818269 |48.255996|40            |45000.0                        |1125.0            |0.06664136577683137|0.8422260140292136|889.780008483635  |9.605947856617318E-5 |10142             |72.61671243624951 |\n",
      "|2023-100170|2023-05-31   |1                 |Vente          |126000.0       |20            |NULL           |IMP MAGENTA               |0898             |10100      |10323       |Romilly-sur-Seine      |10              |NULL               |NULL              |10323000BX0100|NULL              |NULL         |NULL       |NULL               |NULL       |NULL               |NULL       |NULL               |NULL       |NULL               |NULL       |NULL               |0          |1              |Maison     |115                |4                        |S                  |sols          |NULL                        |NULL                   |566            |3.723619 |48.524174|115           |126000.0                       |1095.6521739130435|0.06498941163981874|0.8469066031106269|956.6599732262384 |4.507027883207994E-5 |10323             |568.9587426326129 |\n",
      "|2023-100253|2023-05-30   |1                 |Vente          |109600.0       |10            |NULL           |RUE DE LA LHUITRELLE      |0065             |10700      |10436       |Vinets                 |10              |NULL               |NULL              |104360000B0801|NULL              |NULL         |NULL       |NULL               |NULL       |NULL               |NULL       |NULL               |NULL       |NULL               |NULL       |NULL               |0          |1              |Maison     |68                 |3                        |S                  |sols          |NULL                        |NULL                   |675            |4.242352 |48.534602|68            |109600.0                       |1611.764705882353 |0.07404301042856648|0.8470886060450249|898.2428089203546 |5.579695720552148E-4 |10436             |18.3982683982684  |\n",
      "|2023-100346|2023-05-16   |1                 |Vente          |140000.0       |80            |NULL           |RUE PAUL DOUMER           |0770             |10300      |10362       |Sainte-Savine          |10              |NULL               |NULL              |10362000AH0553|NULL              |NULL         |NULL       |NULL               |NULL       |NULL               |NULL       |NULL               |NULL       |NULL               |NULL       |NULL               |0          |1              |Maison     |70                 |3                        |S                  |sols          |NULL                        |NULL                   |278            |4.050585 |48.289877|70            |140000.0                       |2000.0            |0.07069604488189452|0.8428173490330817|2325.756848995109 |1.9496658074534702E-5|10362             |1382.6315789473686|\n",
      "|2023-100451|2023-06-12   |1                 |Vente          |223000.0       |137           |NULL           |AV GEN GALLIENI           |0311             |10300      |10362       |Sainte-Savine          |10              |NULL               |NULL              |10362000AH0359|NULL              |NULL         |NULL       |NULL               |NULL       |NULL               |NULL       |NULL               |NULL       |NULL               |NULL       |NULL               |0          |1              |Maison     |85                 |3                        |S                  |sols          |NULL                        |NULL                   |246            |4.046348 |48.292652|85            |223000.0                       |2623.529411764706 |0.07062209528148751|0.8428657819198245|2162.342224348106 |4.105029074787853E-5 |10362             |1382.6315789473686|\n",
      "|2023-100517|2023-06-13   |1                 |Vente          |160000.0       |55            |B              |AV MARECHAL LECLERC       |2150             |10120      |10333       |Saint-André-les-Vergers|10              |NULL               |NULL              |10333000BC0091|NULL              |NULL         |NULL       |NULL               |NULL       |NULL               |NULL       |NULL               |NULL       |NULL               |NULL       |NULL               |0          |1              |Maison     |95                 |4                        |S                  |sols          |NULL                        |NULL                   |297            |4.051537 |48.278179|95            |160000.0                       |1684.2105263157894|0.07071266041637349|0.8426131804171835|2001.4285395860454|8.05089776360697E-5  |10333             |2215.5979202772965|\n",
      "|2023-100518|2023-06-19   |1                 |Vente          |160000.0       |1             |B              |RUE VOLTAIRE              |0460             |10800      |10343       |Saint-Julien-les-Villas|10              |NULL               |NULL              |10343000AN0420|NULL              |NULL         |NULL       |NULL               |NULL       |NULL               |NULL       |NULL               |NULL       |NULL               |NULL       |NULL               |0          |2              |Appartement|41                 |2                        |S                  |sols          |NULL                        |NULL                   |269            |4.102649 |48.272043|123           |53333.33333333333              |1300.8130081300812|0.07160473310365285|0.8425060870142811|1830.2291869683515|3.6833027640298434E-5|10343             |1286.1216730038022|\n",
      "|2023-100518|2023-06-19   |1                 |Vente          |160000.0       |1             |B              |RUE VOLTAIRE              |0460             |10800      |10343       |Saint-Julien-les-Villas|10              |NULL               |NULL              |10343000AN0420|NULL              |NULL         |NULL       |NULL               |NULL       |NULL               |NULL       |NULL               |NULL       |NULL               |NULL       |NULL               |0          |2              |Appartement|41                 |2                        |S                  |sols          |NULL                        |NULL                   |269            |4.102649 |48.272043|123           |53333.33333333333              |1300.8130081300812|0.07160473310365285|0.8425060870142811|1830.2291869683515|3.6833027640298434E-5|10343             |1286.1216730038022|\n",
      "|2023-100518|2023-06-19   |1                 |Vente          |160000.0       |1             |B              |RUE VOLTAIRE              |0460             |10800      |10343       |Saint-Julien-les-Villas|10              |NULL               |NULL              |10343000AN0420|NULL              |NULL         |NULL       |NULL               |NULL       |NULL               |NULL       |NULL               |NULL       |NULL               |NULL       |NULL               |0          |2              |Appartement|41                 |2                        |S                  |sols          |NULL                        |NULL                   |269            |4.102649 |48.272043|123           |53333.33333333333              |1300.8130081300812|0.07160473310365285|0.8425060870142811|1830.2291869683515|3.6833027640298434E-5|10343             |1286.1216730038022|\n",
      "|2023-100629|2023-06-08   |1                 |Vente          |88000.0        |10            |NULL           |RUE DE LA PLANCHE DES PRES|4240             |10000      |10387       |Troyes                 |10              |NULL               |NULL              |10387000AL0203|NULL              |NULL         |NULL       |NULL               |NULL       |NULL               |NULL       |NULL               |NULL       |NULL               |NULL       |NULL               |0          |1              |Maison     |63                 |3                        |S                  |sols          |NULL                        |NULL                   |698            |4.096823 |48.29554 |63            |88000.0                        |1396.8253968253969|0.07150305022143165|0.8429161870286223|2078.5061549388506|5.365596131723147E-5 |10387             |4661.926260346125 |\n",
      "|2023-100710|2023-06-06   |1                 |Vente          |174000.0       |4             |NULL           |RLE DANTON                |0085             |10170      |10207       |Longueville-sur-Aube   |10              |NULL               |NULL              |10207000AB0140|NULL              |NULL         |NULL       |NULL               |NULL       |NULL               |NULL       |NULL               |NULL       |NULL               |NULL       |NULL               |0          |1              |Maison     |123                |5                        |S                  |sols          |NULL                        |NULL                   |839            |3.911215 |48.553205|123           |174000.0                       |1414.6341463414635|0.06826357950339002|0.8474132896457733|1072.515813588195 |4.3498303138844545E-4|10207             |10.977701543739279|\n",
      "|2023-100741|2023-06-16   |1                 |Vente          |47953.0        |8             |NULL           |RUE DE LA CITE            |0135             |10230      |10216       |Mailly-le-Camp         |10              |NULL               |NULL              |10216000AE0574|NULL              |NULL         |NULL       |NULL               |NULL       |NULL               |NULL       |NULL               |NULL       |NULL               |NULL       |NULL               |0          |1              |Maison     |160                |4                        |S                  |sols          |NULL                        |NULL                   |283            |4.198421 |48.671705|320           |23976.5                        |149.853125        |0.07327626983487284|0.8494815048093868|845.9925989121941 |7.249708939773553E-5 |10216             |45.005820721769496|\n",
      "|2023-100836|2023-06-30   |1                 |Vente          |65000.0        |4             |NULL           |RUE DE L'ETAPE AU VIN     |0130             |10210      |10080       |Chaource               |10              |NULL               |NULL              |10080000AR0057|NULL              |NULL         |NULL       |NULL               |NULL       |NULL               |NULL       |NULL               |NULL       |NULL               |NULL       |NULL               |0          |1              |Maison     |69                 |3                        |S                  |sols          |NULL                        |NULL                   |469            |4.136248 |48.058831|69            |65000.0                        |942.0289855072464 |0.07219114627903042|0.8387848356095189|1029.802872952503 |3.736079664940412E-4 |10080             |33.37620578778135 |\n",
      "|2023-100879|2023-06-17   |1                 |Vente          |61000.0        |5001          |F              |RTE DE SOUMAINTRAIN       |0260             |10130      |10108       |Courtaoult             |10              |NULL               |NULL              |101080000B0482|NULL              |NULL         |NULL       |NULL               |NULL       |NULL               |NULL       |NULL               |NULL       |NULL               |NULL       |NULL               |0          |1              |Maison     |102                |5                        |S                  |sols          |NULL                        |NULL                   |821            |3.861995 |48.024099|102           |61000.0                        |598.0392156862745 |0.0674045284455584 |0.8381786478537163|1075.0614763864594|4.6554298461569025E-4|10108             |9.715639810426541 |\n",
      "|2023-100965|2023-06-30   |1                 |Vente          |65000.0        |5             |NULL           |RUE DES CHENES            |0010             |10130      |10122       |Davrey                 |10              |NULL               |NULL              |101220000B0463|NULL              |NULL         |NULL       |NULL               |NULL       |NULL               |NULL       |NULL               |NULL       |NULL               |NULL       |NULL               |0          |1              |Maison     |93                 |4                        |S                  |sols          |NULL                        |NULL                   |2310           |3.95946  |48.052769|93            |65000.0                        |698.9247311827957 |0.06910561360101468|0.838679033750263 |682.5988278596748 |4.649521417235296E-4 |10122             |23.38877338877339 |\n",
      "|2023-101007|2023-07-13   |1                 |Vente          |131000.0       |8             |NULL           |RUE GEORGES CLEMENCEAU    |0065             |10280      |10151       |Fontaine-les-Grès      |10              |NULL               |NULL              |10151000AC0108|NULL              |NULL         |NULL       |NULL               |NULL       |NULL               |NULL       |NULL               |NULL       |NULL               |NULL       |NULL               |0          |1              |Maison     |64                 |3                        |S                  |sols          |NULL                        |NULL                   |873            |3.905544 |48.422529|64            |131000.0                       |2046.875          |0.06816460188150941|0.8451325631924372|1400.892702409005 |9.690024237047595E-5 |10151             |71.65032679738562 |\n",
      "|2023-101031|2023-06-29   |1                 |Vente          |172500.0       |12            |NULL           |RUE DE CHILY              |0080             |10280      |10353       |Saint-Mesmin           |10              |NULL               |NULL              |10353000AD0311|NULL              |NULL         |NULL       |NULL               |NULL       |NULL               |NULL       |NULL               |NULL       |NULL               |NULL       |NULL               |0          |1              |Maison     |85                 |3                        |S                  |sols          |NULL                        |NULL                   |304            |3.929029 |48.440317|85            |172500.0                       |2029.4117647058824|0.06857449245634029|0.8454430223597821|1341.3914823822574|1.2498692582933634E-4|10353             |54.0903540903541  |\n",
      "|2023-101094|2023-06-30   |1                 |Vente          |160000.0       |23            |NULL           |RUE GRASSIN               |0152             |10700      |10006       |Arcis-sur-Aube         |10              |NULL               |NULL              |10006000AD0225|NULL              |NULL         |NULL       |NULL               |NULL       |NULL               |NULL       |NULL               |NULL       |NULL               |NULL       |NULL               |0          |1              |Maison     |98                 |5                        |S                  |sols          |NULL                        |NULL                   |703            |4.144514 |48.53483 |98            |160000.0                       |1632.6530612244899|0.07233541519500027|0.8470925853957194|937.2284599004843 |4.562141931188555E-5 |10006             |295.67510548523205|\n",
      "+-----------+-------------+------------------+---------------+---------------+--------------+---------------+--------------------------+-----------------+-----------+------------+-----------------------+----------------+-------------------+------------------+--------------+------------------+-------------+-----------+-------------------+-----------+-------------------+-----------+-------------------+-----------+-------------------+-----------+-------------------+-----------+---------------+-----------+-------------------+-------------------------+-------------------+--------------+----------------------------+-----------------------+---------------+---------+---------+--------------+-------------------------------+------------------+-------------------+------------------+------------------+---------------------+------------------+------------------+\n",
      "only showing top 20 rows\n",
      "\n"
     ]
    }
   ],
   "execution_count": 8
  },
  {
   "metadata": {
    "ExecuteTime": {
     "end_time": "2024-09-01T11:42:15.617011Z",
     "start_time": "2024-09-01T11:42:11.877157Z"
    }
   },
   "cell_type": "code",
   "source": [
    "from pyspark.sql.types import DoubleType\n",
    "from pyspark.sql.functions import udf\n",
    "import numpy as np\n",
    "\n",
    "\n",
    "# Définir la fonction de perte personnalisée\n",
    "def avg_error(y_test, y_pred):\n",
    "    error = np.abs((y_test - y_pred) / y_test)\n",
    "    return float(error)*100  # Assurez-vous de retourner un type flottant pour Spark\n",
    "\n",
    "# Enregistrer la fonction en tant que UDF\n",
    "custom_pred_udf = udf(avg_error, DoubleType())\n",
    "\n",
    "# Appliquer la fonction UDF aux colonnes de DataFrame\n",
    "data_with_error = data_wd.withColumn(\"error\", custom_pred_udf(col(\"prix_m2\"), col(\"avg_neighbor_price\")))\n",
    "\n",
    "# Afficher les résultats\n",
    "data_with_error.show()"
   ],
   "id": "af4be0f5c664547f",
   "outputs": [
    {
     "name": "stdout",
     "output_type": "stream",
     "text": [
      "+-----------+-------------+------------------+---------------+---------------+--------------+---------------+--------------------+-----------------+-----------+------------+--------------------+----------------+-------------------+------------------+--------------+------------------+-------------+-----------+-------------------+-----------+-------------------+-----------+-------------------+-----------+-------------------+-----------+-------------------+-----------+---------------+-----------+-------------------+-------------------------+-------------------+--------------+----------------------------+-----------------------+---------------+---------+---------+--------------+-------------------------------+------------------+-------------------+------------------+------------------+--------------------+------------------+------------------+------------------+\n",
      "|id_mutation|date_mutation|numero_disposition|nature_mutation|valeur_fonciere|adresse_numero|adresse_suffixe|    adresse_nom_voie|adresse_code_voie|code_postal|code_commune|         nom_commune|code_departement|ancien_code_commune|ancien_nom_commune|   id_parcelle|ancien_id_parcelle|numero_volume|lot1_numero|lot1_surface_carrez|lot2_numero|lot2_surface_carrez|lot3_numero|lot3_surface_carrez|lot4_numero|lot4_surface_carrez|lot5_numero|lot5_surface_carrez|nombre_lots|code_type_local| type_local|surface_reelle_bati|nombre_pieces_principales|code_nature_culture|nature_culture|code_nature_culture_speciale|nature_culture_speciale|surface_terrain|longitude| latitude|surface_totale|valeur_fonciere_proportionnelle|           prix_m2|        longitude_r|        latitude_r|avg_neighbor_price|   avg_neighbor_dist|code_commune_INSEE|           density|             error|\n",
      "+-----------+-------------+------------------+---------------+---------------+--------------+---------------+--------------------+-----------------+-----------+------------+--------------------+----------------+-------------------+------------------+--------------+------------------+-------------+-----------+-------------------+-----------+-------------------+-----------+-------------------+-----------+-------------------+-----------+-------------------+-----------+---------------+-----------+-------------------+-------------------------+-------------------+--------------+----------------------------+-----------------------+---------------+---------+---------+--------------+-------------------------------+------------------+-------------------+------------------+------------------+--------------------+------------------+------------------+------------------+\n",
      "|2023-100057|   2023-05-20|                 1|          Vente|        59000.0|             8|           NULL|          AV PASTEUR|             0580|      10160|       10003| Aix-Villemaur-Pâlis|              10|               NULL|              NULL|10003000AC0371|              NULL|         NULL|       NULL|               NULL|       NULL|               NULL|       NULL|               NULL|       NULL|               NULL|       NULL|               NULL|          0|              1|     Maison|                 70|                        3|                  S|          sols|                        NULL|                   NULL|            482| 3.738912|48.220966|           140|                        29500.0|421.42857142857144|0.06525632484232623|  0.84161462519224|1331.4240830001195|5.092131197376806E-5|             10003|47.110402550817064| 215.9311383390114|\n",
      "|2023-100118|   2023-05-23|                 1|          Vente|        30000.0|            34|           NULL|      RUE SAINT JEAN|             0755|      10230|       10216|      Mailly-le-Camp|              10|               NULL|              NULL|10216000AE0373|              NULL|         NULL|       NULL|               NULL|       NULL|               NULL|       NULL|               NULL|       NULL|               NULL|       NULL|               NULL|          0|              1|     Maison|                 61|                        4|                  S|          sols|                        NULL|                   NULL|            440| 4.199571| 48.67211|            61|                        30000.0| 491.8032786885246|0.07329634112127079|0.8494885733928573| 805.4872797632579|7.842571844299544E-5|             10216|45.005820721769496| 63.78241355186244|\n",
      "|2023-100152|   2023-05-16|                 1|          Vente|        45000.0|             3|           NULL|     RUE VOIE CREUSE|             0040|      10190|       10142|            Estissac|              10|               NULL|              NULL|101420000E0610|              NULL|         NULL|       NULL|               NULL|       NULL|               NULL|       NULL|               NULL|       NULL|               NULL|       NULL|               NULL|          0|              1|     Maison|                 40|                        2|                  S|          sols|                        NULL|                   NULL|            518| 3.818269|48.255996|            40|                        45000.0|            1125.0|0.06664136577683137|0.8422260140292136|  889.780008483635|9.605947856617318E-5|             10142| 72.61671243624951|20.908443690343553|\n",
      "|2023-100170|   2023-05-31|                 1|          Vente|       126000.0|            20|           NULL|         IMP MAGENTA|             0898|      10100|       10323|   Romilly-sur-Seine|              10|               NULL|              NULL|10323000BX0100|              NULL|         NULL|       NULL|               NULL|       NULL|               NULL|       NULL|               NULL|       NULL|               NULL|       NULL|               NULL|          0|              1|     Maison|                115|                        4|                  S|          sols|                        NULL|                   NULL|            566| 3.723619|48.524174|           115|                       126000.0|1095.6521739130435|0.06498941163981874|0.8469066031106269| 956.6599732262384|4.507027883207994E-5|             10323| 568.9587426326129|12.685796094430621|\n",
      "|2023-100253|   2023-05-30|                 1|          Vente|       109600.0|            10|           NULL|RUE DE LA LHUITRELLE|             0065|      10700|       10436|              Vinets|              10|               NULL|              NULL|104360000B0801|              NULL|         NULL|       NULL|               NULL|       NULL|               NULL|       NULL|               NULL|       NULL|               NULL|       NULL|               NULL|          0|              1|     Maison|                 68|                        3|                  S|          sols|                        NULL|                   NULL|            675| 4.242352|48.534602|            68|                       109600.0| 1611.764705882353|0.07404301042856648|0.8470886060450249| 898.2428089203546|5.579695720552148E-4|             10436|  18.3982683982684| 44.26960674581741|\n",
      "|2023-100346|   2023-05-16|                 1|          Vente|       140000.0|            80|           NULL|     RUE PAUL DOUMER|             0770|      10300|       10362|       Sainte-Savine|              10|               NULL|              NULL|10362000AH0553|              NULL|         NULL|       NULL|               NULL|       NULL|               NULL|       NULL|               NULL|       NULL|               NULL|       NULL|               NULL|          0|              1|     Maison|                 70|                        3|                  S|          sols|                        NULL|                   NULL|            278| 4.050585|48.289877|            70|                       140000.0|            2000.0|0.07069604488189452|0.8428173490330817| 2325.756848995109|1.949665807453470...|             10362|1382.6315789473686|16.287842449755455|\n",
      "|2023-100451|   2023-06-12|                 1|          Vente|       223000.0|           137|           NULL|     AV GEN GALLIENI|             0311|      10300|       10362|       Sainte-Savine|              10|               NULL|              NULL|10362000AH0359|              NULL|         NULL|       NULL|               NULL|       NULL|               NULL|       NULL|               NULL|       NULL|               NULL|       NULL|               NULL|          0|              1|     Maison|                 85|                        3|                  S|          sols|                        NULL|                   NULL|            246| 4.046348|48.292652|            85|                       223000.0| 2623.529411764706|0.07062209528148751|0.8428657819198245| 2162.342224348106|4.105029074787853E-5|             10362|1382.6315789473686| 17.57888382529641|\n",
      "|2023-100517|   2023-06-13|                 1|          Vente|       160000.0|            55|              B| AV MARECHAL LECLERC|             2150|      10120|       10333|Saint-André-les-V...|              10|               NULL|              NULL|10333000BC0091|              NULL|         NULL|       NULL|               NULL|       NULL|               NULL|       NULL|               NULL|       NULL|               NULL|       NULL|               NULL|          0|              1|     Maison|                 95|                        4|                  S|          sols|                        NULL|                   NULL|            297| 4.051537|48.278179|            95|                       160000.0|1684.2105263157894|0.07071266041637349|0.8426131804171835|2001.4285395860454| 8.05089776360697E-5|             10333|2215.5979202772965|18.834819537921454|\n",
      "|2023-100518|   2023-06-19|                 1|          Vente|       160000.0|             1|              B|        RUE VOLTAIRE|             0460|      10800|       10343|Saint-Julien-les-...|              10|               NULL|              NULL|10343000AN0420|              NULL|         NULL|       NULL|               NULL|       NULL|               NULL|       NULL|               NULL|       NULL|               NULL|       NULL|               NULL|          0|              2|Appartement|                 41|                        2|                  S|          sols|                        NULL|                   NULL|            269| 4.102649|48.272043|           123|              53333.33333333333|1300.8130081300812|0.07160473310365285|0.8425060870142811|1830.2291869683515|3.683302764029843...|             10343|1286.1216730038022| 40.69886874819203|\n",
      "|2023-100518|   2023-06-19|                 1|          Vente|       160000.0|             1|              B|        RUE VOLTAIRE|             0460|      10800|       10343|Saint-Julien-les-...|              10|               NULL|              NULL|10343000AN0420|              NULL|         NULL|       NULL|               NULL|       NULL|               NULL|       NULL|               NULL|       NULL|               NULL|       NULL|               NULL|          0|              2|Appartement|                 41|                        2|                  S|          sols|                        NULL|                   NULL|            269| 4.102649|48.272043|           123|              53333.33333333333|1300.8130081300812|0.07160473310365285|0.8425060870142811|1830.2291869683515|3.683302764029843...|             10343|1286.1216730038022| 40.69886874819203|\n",
      "|2023-100518|   2023-06-19|                 1|          Vente|       160000.0|             1|              B|        RUE VOLTAIRE|             0460|      10800|       10343|Saint-Julien-les-...|              10|               NULL|              NULL|10343000AN0420|              NULL|         NULL|       NULL|               NULL|       NULL|               NULL|       NULL|               NULL|       NULL|               NULL|       NULL|               NULL|          0|              2|Appartement|                 41|                        2|                  S|          sols|                        NULL|                   NULL|            269| 4.102649|48.272043|           123|              53333.33333333333|1300.8130081300812|0.07160473310365285|0.8425060870142811|1830.2291869683515|3.683302764029843...|             10343|1286.1216730038022| 40.69886874819203|\n",
      "|2023-100629|   2023-06-08|                 1|          Vente|        88000.0|            10|           NULL|RUE DE LA PLANCHE...|             4240|      10000|       10387|              Troyes|              10|               NULL|              NULL|10387000AL0203|              NULL|         NULL|       NULL|               NULL|       NULL|               NULL|       NULL|               NULL|       NULL|               NULL|       NULL|               NULL|          0|              1|     Maison|                 63|                        3|                  S|          sols|                        NULL|                   NULL|            698| 4.096823| 48.29554|            63|                        88000.0|1396.8253968253969|0.07150305022143165|0.8429161870286223|2078.5061549388506|5.365596131723147E-5|             10387| 4661.926260346125|48.802145183122256|\n",
      "|2023-100710|   2023-06-06|                 1|          Vente|       174000.0|             4|           NULL|          RLE DANTON|             0085|      10170|       10207|Longueville-sur-Aube|              10|               NULL|              NULL|10207000AB0140|              NULL|         NULL|       NULL|               NULL|       NULL|               NULL|       NULL|               NULL|       NULL|               NULL|       NULL|               NULL|          0|              1|     Maison|                123|                        5|                  S|          sols|                        NULL|                   NULL|            839| 3.911215|48.553205|           123|                       174000.0|1414.6341463414635|0.06826357950339002|0.8474132896457733| 1072.515813588195|4.349830313884454...|             10207|10.977701543739279|24.184226970489668|\n",
      "|2023-100741|   2023-06-16|                 1|          Vente|        47953.0|             8|           NULL|      RUE DE LA CITE|             0135|      10230|       10216|      Mailly-le-Camp|              10|               NULL|              NULL|10216000AE0574|              NULL|         NULL|       NULL|               NULL|       NULL|               NULL|       NULL|               NULL|       NULL|               NULL|       NULL|               NULL|          0|              1|     Maison|                160|                        4|                  S|          sols|                        NULL|                   NULL|            283| 4.198421|48.671705|           320|                        23976.5|        149.853125|0.07327626983487284|0.8494815048093868| 845.9925989121941|7.249708939773553E-5|             10216|45.005820721769496|464.54785238025175|\n",
      "|2023-100836|   2023-06-30|                 1|          Vente|        65000.0|             4|           NULL|RUE DE L'ETAPE AU...|             0130|      10210|       10080|            Chaource|              10|               NULL|              NULL|10080000AR0057|              NULL|         NULL|       NULL|               NULL|       NULL|               NULL|       NULL|               NULL|       NULL|               NULL|       NULL|               NULL|          0|              1|     Maison|                 69|                        3|                  S|          sols|                        NULL|                   NULL|            469| 4.136248|48.058831|            69|                        65000.0| 942.0289855072464|0.07219114627903042|0.8387848356095189| 1029.802872952503|3.736079664940412E-4|             10080| 33.37620578778135|  9.31753574418879|\n",
      "|2023-100879|   2023-06-17|                 1|          Vente|        61000.0|          5001|              F| RTE DE SOUMAINTRAIN|             0260|      10130|       10108|          Courtaoult|              10|               NULL|              NULL|101080000B0482|              NULL|         NULL|       NULL|               NULL|       NULL|               NULL|       NULL|               NULL|       NULL|               NULL|       NULL|               NULL|          0|              1|     Maison|                102|                        5|                  S|          sols|                        NULL|                   NULL|            821| 3.861995|48.024099|           102|                        61000.0| 598.0392156862745| 0.0674045284455584|0.8381786478537163|1075.0614763864594|4.655429846156902...|             10108| 9.715639810426541| 79.76437801871946|\n",
      "|2023-100965|   2023-06-30|                 1|          Vente|        65000.0|             5|           NULL|      RUE DES CHENES|             0010|      10130|       10122|              Davrey|              10|               NULL|              NULL|101220000B0463|              NULL|         NULL|       NULL|               NULL|       NULL|               NULL|       NULL|               NULL|       NULL|               NULL|       NULL|               NULL|          0|              1|     Maison|                 93|                        4|                  S|          sols|                        NULL|                   NULL|           2310|  3.95946|48.052769|            93|                        65000.0| 698.9247311827957|0.06910561360101468| 0.838679033750263| 682.5988278596748|4.649521417235296E-4|             10122| 23.38877338877339|2.3358600139234498|\n",
      "|2023-101007|   2023-07-13|                 1|          Vente|       131000.0|             8|           NULL|RUE GEORGES CLEME...|             0065|      10280|       10151|   Fontaine-les-Grès|              10|               NULL|              NULL|10151000AC0108|              NULL|         NULL|       NULL|               NULL|       NULL|               NULL|       NULL|               NULL|       NULL|               NULL|       NULL|               NULL|          0|              1|     Maison|                 64|                        3|                  S|          sols|                        NULL|                   NULL|            873| 3.905544|48.422529|            64|                       131000.0|          2046.875|0.06816460188150941|0.8451325631924372| 1400.892702409005|9.690024237047595E-5|             10151| 71.65032679738562|31.559440492995172|\n",
      "|2023-101031|   2023-06-29|                 1|          Vente|       172500.0|            12|           NULL|        RUE DE CHILY|             0080|      10280|       10353|        Saint-Mesmin|              10|               NULL|              NULL|10353000AD0311|              NULL|         NULL|       NULL|               NULL|       NULL|               NULL|       NULL|               NULL|       NULL|               NULL|       NULL|               NULL|          0|              1|     Maison|                 85|                        3|                  S|          sols|                        NULL|                   NULL|            304| 3.929029|48.440317|            85|                       172500.0|2029.4117647058824|0.06857449245634029|0.8454430223597821|1341.3914823822574|1.249869258293363...|             10353|  54.0903540903541| 33.90244869420761|\n",
      "|2023-101094|   2023-06-30|                 1|          Vente|       160000.0|            23|           NULL|         RUE GRASSIN|             0152|      10700|       10006|      Arcis-sur-Aube|              10|               NULL|              NULL|10006000AD0225|              NULL|         NULL|       NULL|               NULL|       NULL|               NULL|       NULL|               NULL|       NULL|               NULL|       NULL|               NULL|          0|              1|     Maison|                 98|                        5|                  S|          sols|                        NULL|                   NULL|            703| 4.144514| 48.53483|            98|                       160000.0|1632.6530612244899|0.07233541519500027|0.8470925853957194| 937.2284599004843|4.562141931188555E-5|             10006|295.67510548523205|42.594756831095346|\n",
      "+-----------+-------------+------------------+---------------+---------------+--------------+---------------+--------------------+-----------------+-----------+------------+--------------------+----------------+-------------------+------------------+--------------+------------------+-------------+-----------+-------------------+-----------+-------------------+-----------+-------------------+-----------+-------------------+-----------+-------------------+-----------+---------------+-----------+-------------------+-------------------------+-------------------+--------------+----------------------------+-----------------------+---------------+---------+---------+--------------+-------------------------------+------------------+-------------------+------------------+------------------+--------------------+------------------+------------------+------------------+\n",
      "only showing top 20 rows\n",
      "\n"
     ]
    }
   ],
   "execution_count": 9
  },
  {
   "metadata": {
    "ExecuteTime": {
     "end_time": "2024-09-01T11:42:25.612650Z",
     "start_time": "2024-09-01T11:42:15.651799Z"
    }
   },
   "cell_type": "code",
   "source": "data_with_error.write.mode(\"overwrite\").option(\"header\", \"true\").option(\"inferSchema\", \"true\").csv(\"dataset_with_density.csv\")",
   "id": "41f654a913993ee1",
   "outputs": [],
   "execution_count": 10
  },
  {
   "metadata": {
    "ExecuteTime": {
     "end_time": "2024-09-01T11:42:26.570571Z",
     "start_time": "2024-09-01T11:42:25.655334Z"
    }
   },
   "cell_type": "code",
   "source": "spark.stop()",
   "id": "b0f979d21c4e4412",
   "outputs": [],
   "execution_count": 11
  },
  {
   "metadata": {
    "ExecuteTime": {
     "end_time": "2024-09-01T11:42:26.608859Z",
     "start_time": "2024-09-01T11:42:26.604742Z"
    }
   },
   "cell_type": "code",
   "source": "",
   "id": "c92510de82ae2b0",
   "outputs": [],
   "execution_count": null
  }
 ],
 "metadata": {
  "kernelspec": {
   "display_name": "Python 3",
   "language": "python",
   "name": "python3"
  },
  "language_info": {
   "codemirror_mode": {
    "name": "ipython",
    "version": 2
   },
   "file_extension": ".py",
   "mimetype": "text/x-python",
   "name": "python",
   "nbconvert_exporter": "python",
   "pygments_lexer": "ipython2",
   "version": "2.7.6"
  }
 },
 "nbformat": 4,
 "nbformat_minor": 5
}
