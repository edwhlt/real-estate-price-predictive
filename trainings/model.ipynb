{
 "cells": [
  {
   "cell_type": "code",
   "id": "initial_id",
   "metadata": {
    "collapsed": true,
    "ExecuteTime": {
     "end_time": "2024-09-01T11:44:15.285863Z",
     "start_time": "2024-09-01T11:43:54.780915Z"
    }
   },
   "source": [
    "from pyspark.sql import SparkSession\n",
    "\n",
    "spark = SparkSession.builder \\\n",
    "    .appName(\"RealEstatePriceModel\") \\\n",
    "    .getOrCreate()\n",
    "\n",
    "# Charger les données dans un DataFrame Spark\n",
    "df = spark.read.csv(\"dataset_with_density.csv\", header=True, inferSchema=True)\n",
    "df.show(truncate=False)"
   ],
   "outputs": [
    {
     "name": "stdout",
     "output_type": "stream",
     "text": [
      "+-----------+-------------+------------------+---------------+---------------+--------------+---------------+--------------------------+-----------------+-----------+------------+-----------------------+----------------+-------------------+------------------+--------------+------------------+-------------+-----------+-------------------+-----------+-------------------+-----------+-------------------+-----------+-------------------+-----------+-------------------+-----------+---------------+-----------+-------------------+-------------------------+-------------------+--------------+----------------------------+-----------------------+---------------+---------+---------+--------------+-------------------------------+------------------+-------------------+------------------+------------------+---------------------+------------------+------------------+------------------+\n",
      "|id_mutation|date_mutation|numero_disposition|nature_mutation|valeur_fonciere|adresse_numero|adresse_suffixe|adresse_nom_voie          |adresse_code_voie|code_postal|code_commune|nom_commune            |code_departement|ancien_code_commune|ancien_nom_commune|id_parcelle   |ancien_id_parcelle|numero_volume|lot1_numero|lot1_surface_carrez|lot2_numero|lot2_surface_carrez|lot3_numero|lot3_surface_carrez|lot4_numero|lot4_surface_carrez|lot5_numero|lot5_surface_carrez|nombre_lots|code_type_local|type_local |surface_reelle_bati|nombre_pieces_principales|code_nature_culture|nature_culture|code_nature_culture_speciale|nature_culture_speciale|surface_terrain|longitude|latitude |surface_totale|valeur_fonciere_proportionnelle|prix_m2           |longitude_r        |latitude_r        |avg_neighbor_price|avg_neighbor_dist    |code_commune_INSEE|density           |error             |\n",
      "+-----------+-------------+------------------+---------------+---------------+--------------+---------------+--------------------------+-----------------+-----------+------------+-----------------------+----------------+-------------------+------------------+--------------+------------------+-------------+-----------+-------------------+-----------+-------------------+-----------+-------------------+-----------+-------------------+-----------+-------------------+-----------+---------------+-----------+-------------------+-------------------------+-------------------+--------------+----------------------------+-----------------------+---------------+---------+---------+--------------+-------------------------------+------------------+-------------------+------------------+------------------+---------------------+------------------+------------------+------------------+\n",
      "|2023-100057|2023-05-20   |1                 |Vente          |59000.0        |8             |NULL           |AV PASTEUR                |0580             |10160      |10003       |Aix-Villemaur-Pâlis    |10              |NULL               |NULL              |10003000AC0371|NULL              |NULL         |NULL       |NULL               |NULL       |NULL               |NULL       |NULL               |NULL       |NULL               |NULL       |NULL               |0          |1              |Maison     |70                 |3                        |S                  |sols          |NULL                        |NULL                   |482            |3.738912 |48.220966|140           |29500.0                        |421.42857142857144|0.06525632484232623|0.84161462519224  |1331.4240830001195|5.092131197376806E-5 |10003             |47.110402550817064|215.9311383390114 |\n",
      "|2023-100118|2023-05-23   |1                 |Vente          |30000.0        |34            |NULL           |RUE SAINT JEAN            |0755             |10230      |10216       |Mailly-le-Camp         |10              |NULL               |NULL              |10216000AE0373|NULL              |NULL         |NULL       |NULL               |NULL       |NULL               |NULL       |NULL               |NULL       |NULL               |NULL       |NULL               |0          |1              |Maison     |61                 |4                        |S                  |sols          |NULL                        |NULL                   |440            |4.199571 |48.67211 |61            |30000.0                        |491.8032786885246 |0.07329634112127079|0.8494885733928573|805.4872797632579 |7.842571844299544E-5 |10216             |45.005820721769496|63.78241355186244 |\n",
      "|2023-100152|2023-05-16   |1                 |Vente          |45000.0        |3             |NULL           |RUE VOIE CREUSE           |0040             |10190      |10142       |Estissac               |10              |NULL               |NULL              |101420000E0610|NULL              |NULL         |NULL       |NULL               |NULL       |NULL               |NULL       |NULL               |NULL       |NULL               |NULL       |NULL               |0          |1              |Maison     |40                 |2                        |S                  |sols          |NULL                        |NULL                   |518            |3.818269 |48.255996|40            |45000.0                        |1125.0            |0.06664136577683137|0.8422260140292136|889.780008483635  |9.605947856617318E-5 |10142             |72.61671243624951 |20.908443690343553|\n",
      "|2023-100170|2023-05-31   |1                 |Vente          |126000.0       |20            |NULL           |IMP MAGENTA               |0898             |10100      |10323       |Romilly-sur-Seine      |10              |NULL               |NULL              |10323000BX0100|NULL              |NULL         |NULL       |NULL               |NULL       |NULL               |NULL       |NULL               |NULL       |NULL               |NULL       |NULL               |0          |1              |Maison     |115                |4                        |S                  |sols          |NULL                        |NULL                   |566            |3.723619 |48.524174|115           |126000.0                       |1095.6521739130435|0.06498941163981874|0.8469066031106269|956.6599732262384 |4.507027883207994E-5 |10323             |568.9587426326129 |12.685796094430621|\n",
      "|2023-100253|2023-05-30   |1                 |Vente          |109600.0       |10            |NULL           |RUE DE LA LHUITRELLE      |0065             |10700      |10436       |Vinets                 |10              |NULL               |NULL              |104360000B0801|NULL              |NULL         |NULL       |NULL               |NULL       |NULL               |NULL       |NULL               |NULL       |NULL               |NULL       |NULL               |0          |1              |Maison     |68                 |3                        |S                  |sols          |NULL                        |NULL                   |675            |4.242352 |48.534602|68            |109600.0                       |1611.764705882353 |0.07404301042856648|0.8470886060450249|898.2428089203546 |5.579695720552148E-4 |10436             |18.3982683982684  |44.26960674581741 |\n",
      "|2023-100346|2023-05-16   |1                 |Vente          |140000.0       |80            |NULL           |RUE PAUL DOUMER           |0770             |10300      |10362       |Sainte-Savine          |10              |NULL               |NULL              |10362000AH0553|NULL              |NULL         |NULL       |NULL               |NULL       |NULL               |NULL       |NULL               |NULL       |NULL               |NULL       |NULL               |0          |1              |Maison     |70                 |3                        |S                  |sols          |NULL                        |NULL                   |278            |4.050585 |48.289877|70            |140000.0                       |2000.0            |0.07069604488189452|0.8428173490330817|2325.756848995109 |1.9496658074534702E-5|10362             |1382.6315789473686|16.287842449755455|\n",
      "|2023-100451|2023-06-12   |1                 |Vente          |223000.0       |137           |NULL           |AV GEN GALLIENI           |0311             |10300      |10362       |Sainte-Savine          |10              |NULL               |NULL              |10362000AH0359|NULL              |NULL         |NULL       |NULL               |NULL       |NULL               |NULL       |NULL               |NULL       |NULL               |NULL       |NULL               |0          |1              |Maison     |85                 |3                        |S                  |sols          |NULL                        |NULL                   |246            |4.046348 |48.292652|85            |223000.0                       |2623.529411764706 |0.07062209528148751|0.8428657819198245|2162.342224348106 |4.105029074787853E-5 |10362             |1382.6315789473686|17.57888382529641 |\n",
      "|2023-100517|2023-06-13   |1                 |Vente          |160000.0       |55            |B              |AV MARECHAL LECLERC       |2150             |10120      |10333       |Saint-André-les-Vergers|10              |NULL               |NULL              |10333000BC0091|NULL              |NULL         |NULL       |NULL               |NULL       |NULL               |NULL       |NULL               |NULL       |NULL               |NULL       |NULL               |0          |1              |Maison     |95                 |4                        |S                  |sols          |NULL                        |NULL                   |297            |4.051537 |48.278179|95            |160000.0                       |1684.2105263157894|0.07071266041637349|0.8426131804171835|2001.4285395860454|8.05089776360697E-5  |10333             |2215.5979202772965|18.834819537921454|\n",
      "|2023-100518|2023-06-19   |1                 |Vente          |160000.0       |1             |B              |RUE VOLTAIRE              |0460             |10800      |10343       |Saint-Julien-les-Villas|10              |NULL               |NULL              |10343000AN0420|NULL              |NULL         |NULL       |NULL               |NULL       |NULL               |NULL       |NULL               |NULL       |NULL               |NULL       |NULL               |0          |2              |Appartement|41                 |2                        |S                  |sols          |NULL                        |NULL                   |269            |4.102649 |48.272043|123           |53333.33333333333              |1300.8130081300812|0.07160473310365285|0.8425060870142811|1830.2291869683515|3.6833027640298434E-5|10343             |1286.1216730038022|40.69886874819203 |\n",
      "|2023-100518|2023-06-19   |1                 |Vente          |160000.0       |1             |B              |RUE VOLTAIRE              |0460             |10800      |10343       |Saint-Julien-les-Villas|10              |NULL               |NULL              |10343000AN0420|NULL              |NULL         |NULL       |NULL               |NULL       |NULL               |NULL       |NULL               |NULL       |NULL               |NULL       |NULL               |0          |2              |Appartement|41                 |2                        |S                  |sols          |NULL                        |NULL                   |269            |4.102649 |48.272043|123           |53333.33333333333              |1300.8130081300812|0.07160473310365285|0.8425060870142811|1830.2291869683515|3.6833027640298434E-5|10343             |1286.1216730038022|40.69886874819203 |\n",
      "|2023-100518|2023-06-19   |1                 |Vente          |160000.0       |1             |B              |RUE VOLTAIRE              |0460             |10800      |10343       |Saint-Julien-les-Villas|10              |NULL               |NULL              |10343000AN0420|NULL              |NULL         |NULL       |NULL               |NULL       |NULL               |NULL       |NULL               |NULL       |NULL               |NULL       |NULL               |0          |2              |Appartement|41                 |2                        |S                  |sols          |NULL                        |NULL                   |269            |4.102649 |48.272043|123           |53333.33333333333              |1300.8130081300812|0.07160473310365285|0.8425060870142811|1830.2291869683515|3.6833027640298434E-5|10343             |1286.1216730038022|40.69886874819203 |\n",
      "|2023-100629|2023-06-08   |1                 |Vente          |88000.0        |10            |NULL           |RUE DE LA PLANCHE DES PRES|4240             |10000      |10387       |Troyes                 |10              |NULL               |NULL              |10387000AL0203|NULL              |NULL         |NULL       |NULL               |NULL       |NULL               |NULL       |NULL               |NULL       |NULL               |NULL       |NULL               |0          |1              |Maison     |63                 |3                        |S                  |sols          |NULL                        |NULL                   |698            |4.096823 |48.29554 |63            |88000.0                        |1396.8253968253969|0.07150305022143165|0.8429161870286223|2078.5061549388506|5.365596131723147E-5 |10387             |4661.926260346125 |48.802145183122256|\n",
      "|2023-100710|2023-06-06   |1                 |Vente          |174000.0       |4             |NULL           |RLE DANTON                |0085             |10170      |10207       |Longueville-sur-Aube   |10              |NULL               |NULL              |10207000AB0140|NULL              |NULL         |NULL       |NULL               |NULL       |NULL               |NULL       |NULL               |NULL       |NULL               |NULL       |NULL               |0          |1              |Maison     |123                |5                        |S                  |sols          |NULL                        |NULL                   |839            |3.911215 |48.553205|123           |174000.0                       |1414.6341463414635|0.06826357950339002|0.8474132896457733|1072.515813588195 |4.3498303138844545E-4|10207             |10.977701543739279|24.184226970489668|\n",
      "|2023-100741|2023-06-16   |1                 |Vente          |47953.0        |8             |NULL           |RUE DE LA CITE            |0135             |10230      |10216       |Mailly-le-Camp         |10              |NULL               |NULL              |10216000AE0574|NULL              |NULL         |NULL       |NULL               |NULL       |NULL               |NULL       |NULL               |NULL       |NULL               |NULL       |NULL               |0          |1              |Maison     |160                |4                        |S                  |sols          |NULL                        |NULL                   |283            |4.198421 |48.671705|320           |23976.5                        |149.853125        |0.07327626983487284|0.8494815048093868|845.9925989121941 |7.249708939773553E-5 |10216             |45.005820721769496|464.54785238025175|\n",
      "|2023-100836|2023-06-30   |1                 |Vente          |65000.0        |4             |NULL           |RUE DE L'ETAPE AU VIN     |0130             |10210      |10080       |Chaource               |10              |NULL               |NULL              |10080000AR0057|NULL              |NULL         |NULL       |NULL               |NULL       |NULL               |NULL       |NULL               |NULL       |NULL               |NULL       |NULL               |0          |1              |Maison     |69                 |3                        |S                  |sols          |NULL                        |NULL                   |469            |4.136248 |48.058831|69            |65000.0                        |942.0289855072464 |0.07219114627903042|0.8387848356095189|1029.802872952503 |3.736079664940412E-4 |10080             |33.37620578778135 |9.31753574418879  |\n",
      "|2023-100879|2023-06-17   |1                 |Vente          |61000.0        |5001          |F              |RTE DE SOUMAINTRAIN       |0260             |10130      |10108       |Courtaoult             |10              |NULL               |NULL              |101080000B0482|NULL              |NULL         |NULL       |NULL               |NULL       |NULL               |NULL       |NULL               |NULL       |NULL               |NULL       |NULL               |0          |1              |Maison     |102                |5                        |S                  |sols          |NULL                        |NULL                   |821            |3.861995 |48.024099|102           |61000.0                        |598.0392156862745 |0.0674045284455584 |0.8381786478537163|1075.0614763864594|4.6554298461569025E-4|10108             |9.715639810426541 |79.76437801871946 |\n",
      "|2023-100965|2023-06-30   |1                 |Vente          |65000.0        |5             |NULL           |RUE DES CHENES            |0010             |10130      |10122       |Davrey                 |10              |NULL               |NULL              |101220000B0463|NULL              |NULL         |NULL       |NULL               |NULL       |NULL               |NULL       |NULL               |NULL       |NULL               |NULL       |NULL               |0          |1              |Maison     |93                 |4                        |S                  |sols          |NULL                        |NULL                   |2310           |3.95946  |48.052769|93            |65000.0                        |698.9247311827957 |0.06910561360101468|0.838679033750263 |682.5988278596748 |4.649521417235296E-4 |10122             |23.38877338877339 |2.3358600139234498|\n",
      "|2023-101007|2023-07-13   |1                 |Vente          |131000.0       |8             |NULL           |RUE GEORGES CLEMENCEAU    |0065             |10280      |10151       |Fontaine-les-Grès      |10              |NULL               |NULL              |10151000AC0108|NULL              |NULL         |NULL       |NULL               |NULL       |NULL               |NULL       |NULL               |NULL       |NULL               |NULL       |NULL               |0          |1              |Maison     |64                 |3                        |S                  |sols          |NULL                        |NULL                   |873            |3.905544 |48.422529|64            |131000.0                       |2046.875          |0.06816460188150941|0.8451325631924372|1400.892702409005 |9.690024237047595E-5 |10151             |71.65032679738562 |31.559440492995172|\n",
      "|2023-101031|2023-06-29   |1                 |Vente          |172500.0       |12            |NULL           |RUE DE CHILY              |0080             |10280      |10353       |Saint-Mesmin           |10              |NULL               |NULL              |10353000AD0311|NULL              |NULL         |NULL       |NULL               |NULL       |NULL               |NULL       |NULL               |NULL       |NULL               |NULL       |NULL               |0          |1              |Maison     |85                 |3                        |S                  |sols          |NULL                        |NULL                   |304            |3.929029 |48.440317|85            |172500.0                       |2029.4117647058824|0.06857449245634029|0.8454430223597821|1341.3914823822574|1.2498692582933634E-4|10353             |54.0903540903541  |33.90244869420761 |\n",
      "|2023-101094|2023-06-30   |1                 |Vente          |160000.0       |23            |NULL           |RUE GRASSIN               |0152             |10700      |10006       |Arcis-sur-Aube         |10              |NULL               |NULL              |10006000AD0225|NULL              |NULL         |NULL       |NULL               |NULL       |NULL               |NULL       |NULL               |NULL       |NULL               |NULL       |NULL               |0          |1              |Maison     |98                 |5                        |S                  |sols          |NULL                        |NULL                   |703            |4.144514 |48.53483 |98            |160000.0                       |1632.6530612244899|0.07233541519500027|0.8470925853957194|937.2284599004843 |4.562141931188555E-5 |10006             |295.67510548523205|42.594756831095346|\n",
      "+-----------+-------------+------------------+---------------+---------------+--------------+---------------+--------------------------+-----------------+-----------+------------+-----------------------+----------------+-------------------+------------------+--------------+------------------+-------------+-----------+-------------------+-----------+-------------------+-----------+-------------------+-----------+-------------------+-----------+-------------------+-----------+---------------+-----------+-------------------+-------------------------+-------------------+--------------+----------------------------+-----------------------+---------------+---------+---------+--------------+-------------------------------+------------------+-------------------+------------------+------------------+---------------------+------------------+------------------+------------------+\n",
      "only showing top 20 rows\n",
      "\n"
     ]
    }
   ],
   "execution_count": 1
  },
  {
   "metadata": {
    "ExecuteTime": {
     "end_time": "2024-09-01T11:44:15.489687Z",
     "start_time": "2024-09-01T11:44:15.415511Z"
    }
   },
   "cell_type": "code",
   "source": [
    "from pyspark.sql.functions import col\n",
    "\n",
    "df = df.select([col('valeur_fonciere'), col('surface_reelle_bati'), col('prix_m2'), col('type_local'), \n",
    "                # col('avg_neighbor_dist'), col('density'), col('avg_neighbor_price'), \n",
    "                col('latitude_r'), col('longitude_r')])\n",
    "df.printSchema()"
   ],
   "id": "8d56b56d024bda72",
   "outputs": [
    {
     "name": "stdout",
     "output_type": "stream",
     "text": [
      "root\n",
      " |-- valeur_fonciere: double (nullable = true)\n",
      " |-- surface_reelle_bati: integer (nullable = true)\n",
      " |-- prix_m2: double (nullable = true)\n",
      " |-- type_local: string (nullable = true)\n",
      " |-- latitude_r: double (nullable = true)\n",
      " |-- longitude_r: double (nullable = true)\n",
      "\n"
     ]
    }
   ],
   "execution_count": 2
  },
  {
   "metadata": {
    "ExecuteTime": {
     "end_time": "2024-09-01T11:44:16.213099Z",
     "start_time": "2024-09-01T11:44:15.957242Z"
    }
   },
   "cell_type": "code",
   "source": "df.show(truncate=False)",
   "id": "7869784b1a41e769",
   "outputs": [
    {
     "name": "stdout",
     "output_type": "stream",
     "text": [
      "+---------------+-------------------+------------------+-----------+------------------+-------------------+\n",
      "|valeur_fonciere|surface_reelle_bati|prix_m2           |type_local |latitude_r        |longitude_r        |\n",
      "+---------------+-------------------+------------------+-----------+------------------+-------------------+\n",
      "|59000.0        |70                 |421.42857142857144|Maison     |0.84161462519224  |0.06525632484232623|\n",
      "|30000.0        |61                 |491.8032786885246 |Maison     |0.8494885733928573|0.07329634112127079|\n",
      "|45000.0        |40                 |1125.0            |Maison     |0.8422260140292136|0.06664136577683137|\n",
      "|126000.0       |115                |1095.6521739130435|Maison     |0.8469066031106269|0.06498941163981874|\n",
      "|109600.0       |68                 |1611.764705882353 |Maison     |0.8470886060450249|0.07404301042856648|\n",
      "|140000.0       |70                 |2000.0            |Maison     |0.8428173490330817|0.07069604488189452|\n",
      "|223000.0       |85                 |2623.529411764706 |Maison     |0.8428657819198245|0.07062209528148751|\n",
      "|160000.0       |95                 |1684.2105263157894|Maison     |0.8426131804171835|0.07071266041637349|\n",
      "|160000.0       |41                 |1300.8130081300812|Appartement|0.8425060870142811|0.07160473310365285|\n",
      "|160000.0       |41                 |1300.8130081300812|Appartement|0.8425060870142811|0.07160473310365285|\n",
      "|160000.0       |41                 |1300.8130081300812|Appartement|0.8425060870142811|0.07160473310365285|\n",
      "|88000.0        |63                 |1396.8253968253969|Maison     |0.8429161870286223|0.07150305022143165|\n",
      "|174000.0       |123                |1414.6341463414635|Maison     |0.8474132896457733|0.06826357950339002|\n",
      "|47953.0        |160                |149.853125        |Maison     |0.8494815048093868|0.07327626983487284|\n",
      "|65000.0        |69                 |942.0289855072464 |Maison     |0.8387848356095189|0.07219114627903042|\n",
      "|61000.0        |102                |598.0392156862745 |Maison     |0.8381786478537163|0.0674045284455584 |\n",
      "|65000.0        |93                 |698.9247311827957 |Maison     |0.838679033750263 |0.06910561360101468|\n",
      "|131000.0       |64                 |2046.875          |Maison     |0.8451325631924372|0.06816460188150941|\n",
      "|172500.0       |85                 |2029.4117647058824|Maison     |0.8454430223597821|0.06857449245634029|\n",
      "|160000.0       |98                 |1632.6530612244899|Maison     |0.8470925853957194|0.07233541519500027|\n",
      "+---------------+-------------------+------------------+-----------+------------------+-------------------+\n",
      "only showing top 20 rows\n",
      "\n"
     ]
    }
   ],
   "execution_count": 3
  },
  {
   "metadata": {
    "ExecuteTime": {
     "end_time": "2024-09-01T11:44:19.535207Z",
     "start_time": "2024-09-01T11:44:16.253371Z"
    }
   },
   "cell_type": "code",
   "source": [
    "# supprimer les lignes avec des valeurs nulles\n",
    "print(f\"Nombre de lignes avant suppression des valeurs nulles: {df.count()}\")\n",
    "df = df.dropna()\n",
    "print(f\"Nombre de lignes après suppression des valeurs nulles: {df.count()}\")"
   ],
   "id": "c38b7da7b57890a4",
   "outputs": [
    {
     "name": "stdout",
     "output_type": "stream",
     "text": [
      "Nombre de lignes avant suppression des valeurs nulles: 206946\n",
      "Nombre de lignes après suppression des valeurs nulles: 206946\n"
     ]
    }
   ],
   "execution_count": 4
  },
  {
   "metadata": {
    "ExecuteTime": {
     "end_time": "2024-09-01T11:44:20.181545Z",
     "start_time": "2024-09-01T11:44:19.586111Z"
    }
   },
   "cell_type": "code",
   "source": [
    "from pyspark.ml.feature import StringIndexer, OneHotEncoder\n",
    "\n",
    "# Indexation des colonnes catégorielles\n",
    "categorical_columns = ['type_local']\n",
    "indexers = [StringIndexer(inputCol=col, outputCol=col + \"_indexed\") for col in categorical_columns]\n",
    "\n",
    "# Encodage des colonnes indexées\n",
    "encoders = [OneHotEncoder(inputCol=col + \"_indexed\", outputCol=col + \"_encoded\") for col in categorical_columns]"
   ],
   "id": "9d5dbcd472cd7bf4",
   "outputs": [],
   "execution_count": 5
  },
  {
   "metadata": {
    "ExecuteTime": {
     "end_time": "2024-09-01T11:44:37.428255Z",
     "start_time": "2024-09-01T11:44:20.303914Z"
    }
   },
   "cell_type": "code",
   "source": [
    "from pyspark.ml.evaluation import RegressionEvaluator\n",
    "from pyspark.ml import Pipeline\n",
    "from pyspark.ml.regression import RandomForestRegressor\n",
    "from pyspark.ml.feature import VectorAssembler, StandardScaler\n",
    "\n",
    "# Diviser les données en ensembles d'entraînement et de test\n",
    "train_data, test_data = df.randomSplit([0.8, 0.2], seed=42)\n",
    "\n",
    "# Assembler les caractéristiques en un vecteur\n",
    "feature_columns = [col for col in df.columns if col not in ['valeur_fonciere', 'prix_m2']+ categorical_columns]  + [col + \"_encoded\" for col in categorical_columns]\n",
    "assembler = VectorAssembler(inputCols=feature_columns, outputCol=\"features\")\n",
    "\n",
    "# Standardiser les données\n",
    "scaler = StandardScaler(inputCol=\"features\", outputCol=\"scaledFeatures\")\n",
    "\n",
    "# Créer et entraîner le modèle\n",
    "rf = RandomForestRegressor(\n",
    "    featuresCol=\"scaledFeatures\", \n",
    "    labelCol=\"valeur_fonciere\", \n",
    "    numTrees=30, \n",
    "    minInstancesPerNode=5\n",
    ")\n",
    "\n",
    "# Construire un pipeline\n",
    "pipeline = Pipeline(stages=indexers + encoders + [assembler, scaler, rf])\n",
    "\n",
    "# Entraîner le modèle\n",
    "model = pipeline.fit(train_data)"
   ],
   "id": "a6cd262bcad2650",
   "outputs": [],
   "execution_count": 6
  },
  {
   "metadata": {
    "ExecuteTime": {
     "end_time": "2024-09-01T11:44:38.845634Z",
     "start_time": "2024-09-01T11:44:37.444480Z"
    }
   },
   "cell_type": "code",
   "source": [
    "# Faire des prédictions sur l'ensemble de test\n",
    "predictions = model.transform(test_data)\n",
    "\n",
    "# Évaluer le modèle\n",
    "evaluator = RegressionEvaluator(\n",
    "    labelCol=\"prix_m2\", \n",
    "    predictionCol=\"prediction\", \n",
    "    metricName=\"rmse\"\n",
    ")\n",
    "rmse = evaluator.evaluate(predictions)\n",
    "print(f\"Root Mean Squared Error (RMSE) on test data = {rmse}\")"
   ],
   "id": "11434fd90ce82941",
   "outputs": [
    {
     "name": "stdout",
     "output_type": "stream",
     "text": [
      "Root Mean Squared Error (RMSE) on test data = 421099.6532083456\n"
     ]
    }
   ],
   "execution_count": 7
  },
  {
   "metadata": {
    "ExecuteTime": {
     "end_time": "2024-09-01T11:44:39.311102Z",
     "start_time": "2024-09-01T11:44:38.963571Z"
    }
   },
   "cell_type": "code",
   "source": [
    "# Afficher quelques prédictions\n",
    "predictions.select(\"prediction\", \"valeur_fonciere\", \"features\").show(5)"
   ],
   "id": "3d43c7f2e6603fa2",
   "outputs": [
    {
     "name": "stdout",
     "output_type": "stream",
     "text": [
      "+------------------+---------------+--------------------+\n",
      "|        prediction|valeur_fonciere|            features|\n",
      "+------------------+---------------+--------------------+\n",
      "|172944.11921005577|            1.0|[75.0,0.816812309...|\n",
      "|172944.11921005577|            1.0|[75.0,0.816812309...|\n",
      "|172944.11921005577|            1.0|[75.0,0.816823095...|\n",
      "|185058.14662043375|            1.0|[86.0,0.816826621...|\n",
      "|205455.03196521374|            1.0|[110.0,0.83102742...|\n",
      "+------------------+---------------+--------------------+\n",
      "only showing top 5 rows\n",
      "\n"
     ]
    }
   ],
   "execution_count": 8
  },
  {
   "metadata": {
    "ExecuteTime": {
     "end_time": "2024-09-01T11:44:41.711711Z",
     "start_time": "2024-09-01T11:44:39.381756Z"
    }
   },
   "cell_type": "code",
   "source": [
    "from matplotlib import pyplot as plt\n",
    "import seaborn as sns\n",
    "\n",
    "# Convertir les prédictions en Pandas DataFrame pour visualisation\n",
    "predictions_pd = predictions.select(\"prediction\", \"prix_m2\").toPandas()\n",
    "\n",
    "# Calculer l'erreur\n",
    "predictions_pd['erreur'] = predictions_pd['prix_m2'] - predictions_pd['prediction']\n",
    "\n",
    "# Afficher la distribution de l'erreur\n",
    "plt.figure(figsize=(10, 6))\n",
    "sns.histplot(predictions_pd['erreur'], bins=50, kde=True)\n",
    "plt.xlabel(\"Erreur\")\n",
    "plt.ylabel(\"Fréquence\")\n",
    "plt.title(\"Distribution de l'erreur du modèle\")\n",
    "plt.show()"
   ],
   "id": "32e740ddb5e6af7f",
   "outputs": [
    {
     "data": {
      "text/plain": [
       "<Figure size 1000x600 with 1 Axes>"
      ],
      "image/png": "[encoded data removed]"
     },
     "metadata": {},
     "output_type": "display_data"
    }
   ],
   "execution_count": 9
  },
  {
   "metadata": {
    "ExecuteTime": {
     "end_time": "2024-09-01T11:44:45.068982Z",
     "start_time": "2024-09-01T11:44:41.757167Z"
    }
   },
   "cell_type": "code",
   "source": "model.write().overwrite().save(\"model\")",
   "id": "d4853212ff7caa5e",
   "outputs": [],
   "execution_count": 10
  },
  {
   "metadata": {
    "ExecuteTime": {
     "end_time": "2024-09-01T11:44:45.295083Z",
     "start_time": "2024-09-01T11:44:45.104849Z"
    }
   },
   "cell_type": "code",
   "source": "spark.stop()",
   "id": "ee9c74a7c584b2eb",
   "outputs": [],
   "execution_count": 11
  },
  {
   "metadata": {
    "ExecuteTime": {
     "end_time": "2024-09-01T11:44:45.332494Z",
     "start_time": "2024-09-01T11:44:45.328979Z"
    }
   },
   "cell_type": "code",
   "source": "",
   "id": "190d3d410ca0b190",
   "outputs": [],
   "execution_count": null
  }
 ],
 "metadata": {
  "kernelspec": {
   "display_name": "Python 3",
   "language": "python",
   "name": "python3"
  },
  "language_info": {
   "codemirror_mode": {
    "name": "ipython",
    "version": 2
   },
   "file_extension": ".py",
   "mimetype": "text/x-python",
   "name": "python",
   "nbconvert_exporter": "python",
   "pygments_lexer": "ipython2",
   "version": "2.7.6"
  }
 },
 "nbformat": 4,
 "nbformat_minor": 5
}
