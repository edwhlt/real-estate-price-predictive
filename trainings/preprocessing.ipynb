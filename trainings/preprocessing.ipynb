{
 "cells": [
  {
   "cell_type": "code",
   "id": "initial_id",
   "metadata": {
    "collapsed": true,
    "ExecuteTime": {
     "end_time": "2024-09-01T11:29:56.109160Z",
     "start_time": "2024-09-01T11:29:51.065103Z"
    }
   },
   "source": [
    "from pyspark.sql.types import FloatType, IntegerType\n",
    "from pyspark.sql import SparkSession\n",
    "\n",
    "spark = SparkSession.builder \\\n",
    "    .appName(\"RealEstatePriceAnalysis\") \\\n",
    "    .config(\"spark.executor.memory\", \"4g\") \\\n",
    "    .config(\"spark.driver.memory\", \"4g\") \\\n",
    "    .config(\"spark.memory.fraction\", 0.8) \\\n",
    "    .getOrCreate()"
   ],
   "outputs": [],
   "execution_count": 1
  },
  {
   "metadata": {
    "ExecuteTime": {
     "end_time": "2024-09-01T11:30:09.664912Z",
     "start_time": "2024-09-01T11:29:56.193645Z"
    }
   },
   "cell_type": "code",
   "source": [
    "from pyspark.sql.functions import col\n",
    "\n",
    "data = spark.read.option(\"header\", \"true\").csv('23.csv', header=True, inferSchema=True, sep=',')\n",
    "# Filtrage des données\n",
    "print(\"Nombre de lignes avant filtrage : \", data.count())\n",
    "data = data.filter(\n",
    "    (col(\"nature_mutation\").isin(\"Vente\", \"Vente en l’état futur d’achèvement\")) &\n",
    "    # ((col(\"nombre_lots\") == 1) | (col(\"nombre_lots\") == 0)) &\n",
    "    # (col(\"code_nature_culture\").isNotNull() & (col(\"code_nature_culture\") == \"S\")) &\n",
    "    # (col(\"surface_reelle_bati\").isNotNull() & (col(\"surface_reelle_bati\") != 0)) &\n",
    "    (col(\"valeur_fonciere\").isNotNull() & (col(\"valeur_fonciere\") != 0)) &\n",
    "    (col(\"longitude\").isNotNull()) & (col(\"latitude\").isNotNull())\n",
    ")\n",
    "print(\"Nombre de lignes après filtrage : \", data.count())\n",
    "\n",
    "# Filtrage des mutations qui possèdent des vignes (code_nature_culture contenant \"VI\")\n",
    "vignes_mutations = data.filter(col(\"code_nature_culture\") == \"VI\").select(\"id_mutation\").distinct()\n",
    "# Filtrage des mutation qui possèdent des locals\n",
    "local_mutations = data.filter(col(\"code_type_local\") == \"4\").select(\"id_mutation\").distinct()\n",
    "removed_mutation = vignes_mutations.join(local_mutations, on=\"id_mutation\", how=\"outer\")\n",
    "\n",
    "# Exclusion des mutations possédant des vignes et des locals\n",
    "df_final = data.join(removed_mutation, on=\"id_mutation\", how=\"left_anti\")"
   ],
   "id": "a01871d28e44def3",
   "outputs": [
    {
     "name": "stdout",
     "output_type": "stream",
     "text": [
      "Nombre de lignes avant filtrage :  1599284\n",
      "Nombre de lignes après filtrage :  1472174\n"
     ]
    }
   ],
   "execution_count": 2
  },
  {
   "metadata": {
    "ExecuteTime": {
     "end_time": "2024-09-01T11:30:12.652461Z",
     "start_time": "2024-09-01T11:30:10.088751Z"
    }
   },
   "cell_type": "code",
   "source": "df_final.where((col(\"id_mutation\") == \"2023-1264625\") | (col(\"id_mutation\") == \"2023-1264630\")).show(20)",
   "id": "9c9c57f960b7cd97",
   "outputs": [
    {
     "name": "stdout",
     "output_type": "stream",
     "text": [
      "+-----------+-------------+------------------+---------------+---------------+--------------+---------------+----------------+-----------------+-----------+------------+-----------+----------------+-------------------+------------------+-----------+------------------+-------------+-----------+-------------------+-----------+-------------------+-----------+-------------------+-----------+-------------------+-----------+-------------------+-----------+---------------+----------+-------------------+-------------------------+-------------------+--------------+----------------------------+-----------------------+---------------+---------+--------+\n",
      "|id_mutation|date_mutation|numero_disposition|nature_mutation|valeur_fonciere|adresse_numero|adresse_suffixe|adresse_nom_voie|adresse_code_voie|code_postal|code_commune|nom_commune|code_departement|ancien_code_commune|ancien_nom_commune|id_parcelle|ancien_id_parcelle|numero_volume|lot1_numero|lot1_surface_carrez|lot2_numero|lot2_surface_carrez|lot3_numero|lot3_surface_carrez|lot4_numero|lot4_surface_carrez|lot5_numero|lot5_surface_carrez|nombre_lots|code_type_local|type_local|surface_reelle_bati|nombre_pieces_principales|code_nature_culture|nature_culture|code_nature_culture_speciale|nature_culture_speciale|surface_terrain|longitude|latitude|\n",
      "+-----------+-------------+------------------+---------------+---------------+--------------+---------------+----------------+-----------------+-----------+------------+-----------+----------------+-------------------+------------------+-----------+------------------+-------------+-----------+-------------------+-----------+-------------------+-----------+-------------------+-----------+-------------------+-----------+-------------------+-----------+---------------+----------+-------------------+-------------------------+-------------------+--------------+----------------------------+-----------------------+---------------+---------+--------+\n",
      "+-----------+-------------+------------------+---------------+---------------+--------------+---------------+----------------+-----------------+-----------+------------+-----------+----------------+-------------------+------------------+-----------+------------------+-------------+-----------+-------------------+-----------+-------------------+-----------+-------------------+-----------+-------------------+-----------+-------------------+-----------+---------------+----------+-------------------+-------------------------+-------------------+--------------+----------------------------+-----------------------+---------------+---------+--------+\n",
      "\n"
     ]
    }
   ],
   "execution_count": 3
  },
  {
   "metadata": {
    "ExecuteTime": {
     "end_time": "2024-09-01T11:30:17.125815Z",
     "start_time": "2024-09-01T11:30:12.754383Z"
    }
   },
   "cell_type": "code",
   "source": [
    "from pyspark.sql.functions import collect_list, struct, map_from_entries, to_json, expr\n",
    "\n",
    "# Sélection des colonnes nécessaires\n",
    "cols = data.columns\n",
    "id_cadastre_col = \"id_parcelle\"  # ou la colonne qui identifie le cadastre\n",
    "id_mutation_col = \"id_mutation\"\n",
    "id_mutation_col = \"adresse_numero\"\n",
    "\n",
    "# Collecter les données en utilisant collect_list et struct\n",
    "mutation_structs = data.select(id_cadastre_col, id_mutation_col, *[col for col in cols if col != id_cadastre_col and col != id_mutation_col]) \\\n",
    "    .groupBy(id_cadastre_col, id_mutation_col) \\\n",
    "    .agg(collect_list(struct(*[col for col in cols if col != id_cadastre_col and col != id_mutation_col])).alias(\"properties\"))\n",
    "\n",
    "mutation_structs.where(col(\"id_parcelle\") == \"95256000AD0777\").show(20, truncate=False)"
   ],
   "id": "a87e9ae73283cff",
   "outputs": [
    {
     "name": "stdout",
     "output_type": "stream",
     "text": [
      "+-----------+--------------+----------+\n",
      "|id_parcelle|adresse_numero|properties|\n",
      "+-----------+--------------+----------+\n",
      "+-----------+--------------+----------+\n",
      "\n"
     ]
    }
   ],
   "execution_count": 4
  },
  {
   "metadata": {
    "ExecuteTime": {
     "end_time": "2024-09-01T11:30:29.492463Z",
     "start_time": "2024-09-01T11:30:17.159061Z"
    }
   },
   "cell_type": "code",
   "source": [
    "from pyspark.sql.functions import approx_count_distinct, collect_set\n",
    "# Sélection des parcelles qui apparaissent dans plusieurs mutations à une même date\n",
    "df_grouped = df_final.groupBy(\"id_parcelle\", \"valeur_fonciere\", \"date_mutation\").agg(\n",
    "    approx_count_distinct(\"id_mutation\").alias(\"unique_mutation_count\"),\n",
    "    collect_set(\"id_mutation\").alias(\"mutation_ids\")\n",
    ")\n",
    "\n",
    "# Filtrage des parcelles apparaissant dans plusieurs id_mutation à une même date\n",
    "df_multiple_mutations = df_grouped.filter(col(\"unique_mutation_count\") > 1)\n",
    "\n",
    "df_multiple_mutations.show(truncate=False)"
   ],
   "id": "b9436fe1aac03245",
   "outputs": [
    {
     "name": "stdout",
     "output_type": "stream",
     "text": [
      "+--------------+---------------+-------------+---------------------+---------------------------------------+\n",
      "|id_parcelle   |valeur_fonciere|date_mutation|unique_mutation_count|mutation_ids                           |\n",
      "+--------------+---------------+-------------+---------------------+---------------------------------------+\n",
      "|02810000AL0394|14000.0        |2023-05-02   |2                    |[2023-16643, 2023-16645]               |\n",
      "|07010000AB0478|351000.0       |2023-07-31   |2                    |[2023-84053, 2023-84049]               |\n",
      "|070360000B1427|60000.0        |2023-04-13   |2                    |[2023-80473, 2023-80212]               |\n",
      "|11116000CW0027|34447.0        |2023-09-18   |2                    |[2023-113785, 2023-113834]             |\n",
      "|11116000CW0027|78785.0        |2023-09-18   |2                    |[2023-113749, 2023-113832]             |\n",
      "|12202000AM0459|11000.0        |2023-06-09   |2                    |[2023-121062, 2023-121059]             |\n",
      "|132058210E0026|20000.0        |2023-06-19   |2                    |[2023-134164, 2023-134111]             |\n",
      "|14118000HC0297|23000.0        |2023-07-11   |2                    |[2023-169911, 2023-169590]             |\n",
      "|150540000G0080|23000.0        |2023-10-02   |2                    |[2023-181494, 2023-181539]             |\n",
      "|17074000ZK0077|755160.0       |2023-06-12   |2                    |[2023-209672, 2023-209633]             |\n",
      "|17274000AP0578|804000.0       |2023-02-24   |2                    |[2023-194404, 2023-194429]             |\n",
      "|17306000AD0939|117750.0       |2023-09-20   |2                    |[2023-201834, 2023-201736]             |\n",
      "|19136000YW0159|178502.4       |2023-03-14   |2                    |[2023-222303, 2023-222114]             |\n",
      "|21231000ER0216|96500.0        |2023-03-03   |2                    |[2023-228788, 2023-228786]             |\n",
      "|25056000BP0319|15000.0        |2023-11-17   |2                    |[2023-281531, 2023-281535]             |\n",
      "|252670000B0583|2964.0         |2023-09-28   |2                    |[2023-281252, 2023-281317]             |\n",
      "|26065000AD0156|10900.0        |2023-02-24   |2                    |[2023-286765, 2023-288052]             |\n",
      "|26287000ZC0016|35000.0        |2023-08-08   |2                    |[2023-292250, 2023-292423]             |\n",
      "|276110000E0103|1.0            |2023-09-15   |3                    |[2023-305626, 2023-305623, 2023-307389]|\n",
      "|27701000CT0337|77688.0        |2023-03-31   |2                    |[2023-299071, 2023-299174]             |\n",
      "+--------------+---------------+-------------+---------------------+---------------------------------------+\n",
      "only showing top 20 rows\n",
      "\n"
     ]
    }
   ],
   "execution_count": 5
  },
  {
   "metadata": {
    "ExecuteTime": {
     "end_time": "2024-09-01T11:30:34.199810Z",
     "start_time": "2024-09-01T11:30:29.575253Z"
    }
   },
   "cell_type": "code",
   "source": "df_final.where(col(\"id_parcelle\") == \"040880000G1483\").select(\"id_mutation\", \"date_mutation\", \"adresse_numero\", \"adresse_nom_voie\", \"code_postal\", \"nom_commune\", \"valeur_fonciere\", \"longitude\", \"latitude\").show(20, truncate=False)",
   "id": "9d185f118d866bcf",
   "outputs": [
    {
     "name": "stdout",
     "output_type": "stream",
     "text": [
      "+-----------+-------------+--------------+---------------------+-----------+-----------+---------------+---------+---------+\n",
      "|id_mutation|date_mutation|adresse_numero|adresse_nom_voie     |code_postal|nom_commune|valeur_fonciere|longitude|latitude |\n",
      "+-----------+-------------+--------------+---------------------+-----------+-----------+---------------+---------+---------+\n",
      "|2023-32500 |2023-02-28   |155           |RUE DOC CASIMIR CAIRE|4300       |Forcalquier|120000.0       |5.776414 |43.961318|\n",
      "|2023-32500 |2023-02-28   |155           |RUE DOC CASIMIR CAIRE|4300       |Forcalquier|120000.0       |5.776414 |43.961318|\n",
      "|2023-32996 |2023-02-28   |155           |RUE DOC CASIMIR CAIRE|4300       |Forcalquier|100000.0       |5.776414 |43.961318|\n",
      "|2023-32996 |2023-02-28   |155           |RUE DOC CASIMIR CAIRE|4300       |Forcalquier|100000.0       |5.776414 |43.961318|\n",
      "|2023-35370 |2023-09-20   |155           |RUE DOC CASIMIR CAIRE|4300       |Forcalquier|100000.0       |5.776414 |43.961318|\n",
      "|2023-35370 |2023-09-20   |155           |RUE DOC CASIMIR CAIRE|4300       |Forcalquier|100000.0       |5.776414 |43.961318|\n",
      "+-----------+-------------+--------------+---------------------+-----------+-----------+---------------+---------+---------+\n",
      "\n"
     ]
    }
   ],
   "execution_count": 6
  },
  {
   "metadata": {
    "ExecuteTime": {
     "end_time": "2024-09-01T11:30:40.815553Z",
     "start_time": "2024-09-01T11:30:34.285014Z"
    }
   },
   "cell_type": "code",
   "source": "df_multiple_mutations.count()",
   "id": "94b3e03c606e2712",
   "outputs": [
    {
     "data": {
      "text/plain": [
       "669"
      ]
     },
     "execution_count": 7,
     "metadata": {},
     "output_type": "execute_result"
    }
   ],
   "execution_count": 7
  },
  {
   "metadata": {
    "ExecuteTime": {
     "end_time": "2024-09-01T11:30:49.938045Z",
     "start_time": "2024-09-01T11:30:40.910988Z"
    }
   },
   "cell_type": "code",
   "source": [
    "from pyspark.sql.functions import col, sum as spark_sum\n",
    "\n",
    "# Calcul de la surface totale par mutation\n",
    "df_surface_totale = df_final.groupBy(\"id_mutation\").agg(\n",
    "    spark_sum(\"surface_reelle_bati\").alias(\"surface_totale\")\n",
    ")\n",
    "\n",
    "# Jointure pour obtenir la surface totale dans le DataFrame principal\n",
    "df_joined = df_final.join(df_surface_totale, \"id_mutation\")\n",
    "\n",
    "# Calcul de la valeur foncière proportionnelle pour chaque bien\n",
    "df_final = df_joined.withColumn(\n",
    "    \"valeur_fonciere_proportionnelle\",\n",
    "    (col(\"surface_reelle_bati\") / col(\"surface_totale\")) * col(\"valeur_fonciere\")\n",
    ")\n",
    "df_final = df_final.withColumn(\"prix_m2\", col(\"valeur_fonciere_proportionnelle\") / col(\"surface_reelle_bati\"))\n",
    "\n",
    "# Affichage du résultat\n",
    "df_final.select(\n",
    "    \"id_mutation\", \"adresse_numero\", \"adresse_nom_voie\", \"code_postal\", \"nom_commune\", \"valeur_fonciere\", \"type_local\", \"valeur_fonciere_proportionnelle\", \"prix_m2\", \"surface_reelle_bati\", \"surface_totale\"\n",
    ").show(truncate=False)"
   ],
   "id": "23b8d3845ba2ac6b",
   "outputs": [
    {
     "name": "stdout",
     "output_type": "stream",
     "text": [
      "+-----------+--------------+----------------+-----------+--------------------+---------------+-----------+-------------------------------+------------------+-------------------+--------------+\n",
      "|id_mutation|adresse_numero|adresse_nom_voie|code_postal|nom_commune         |valeur_fonciere|type_local |valeur_fonciere_proportionnelle|prix_m2           |surface_reelle_bati|surface_totale|\n",
      "+-----------+--------------+----------------+-----------+--------------------+---------------+-----------+-------------------------------+------------------+-------------------+--------------+\n",
      "|2023-100028|NULL          |LE VILLAGE      |10130      |Villeneuve-au-Chemin|50000.0        |NULL       |NULL                           |NULL              |NULL               |83            |\n",
      "|2023-100028|27            |RTE NATIONALE 77|10130      |Villeneuve-au-Chemin|50000.0        |Maison     |50000.0                        |602.4096385542168 |83                 |83            |\n",
      "|2023-100028|27            |RTE NATIONALE 77|10130      |Villeneuve-au-Chemin|50000.0        |Dépendance |NULL                           |NULL              |NULL               |83            |\n",
      "|2023-100028|NULL          |LE VILLAGE      |10130      |Villeneuve-au-Chemin|50000.0        |NULL       |NULL                           |NULL              |NULL               |83            |\n",
      "|2023-100053|12            |RUE NEUVE       |10190      |Bucey-en-Othe       |220000.0       |Dépendance |NULL                           |NULL              |NULL               |150           |\n",
      "|2023-100053|12            |RUE NEUVE       |10190      |Bucey-en-Othe       |220000.0       |Dépendance |NULL                           |NULL              |NULL               |150           |\n",
      "|2023-100053|12            |RUE NEUVE       |10190      |Bucey-en-Othe       |220000.0       |Maison     |220000.0                       |1466.6666666666667|150                |150           |\n",
      "|2023-100053|12            |RUE NEUVE       |10190      |Bucey-en-Othe       |220000.0       |Dépendance |NULL                           |NULL              |NULL               |150           |\n",
      "|2023-100053|NULL          |LE CHAILLOTAT   |10190      |Bucey-en-Othe       |220000.0       |NULL       |NULL                           |NULL              |NULL               |150           |\n",
      "|2023-100053|NULL          |LE CHAILLOTAT   |10190      |Bucey-en-Othe       |220000.0       |NULL       |NULL                           |NULL              |NULL               |150           |\n",
      "|2023-100055|NULL          |LA HAYE D ARGENT|10400      |Ferreux-Quincey     |8495.0         |NULL       |NULL                           |NULL              |NULL               |NULL          |\n",
      "|2023-100055|NULL          |LA HAYE D ARGENT|10400      |Ferreux-Quincey     |8495.0         |NULL       |NULL                           |NULL              |NULL               |NULL          |\n",
      "|2023-100055|NULL          |LA HAYE D ARGENT|10400      |Ferreux-Quincey     |8495.0         |NULL       |NULL                           |NULL              |NULL               |NULL          |\n",
      "|2023-100055|NULL          |LA HAYE D ARGENT|10400      |Ferreux-Quincey     |8495.0         |NULL       |NULL                           |NULL              |NULL               |NULL          |\n",
      "|2023-100065|NULL          |RICEY-HAUT      |10340      |Les Riceys          |1.0            |NULL       |NULL                           |NULL              |NULL               |NULL          |\n",
      "|2023-100074|NULL          |VILLAGE DE FAUX |10290      |Faux-Villecerf      |20000.0        |NULL       |NULL                           |NULL              |NULL               |NULL          |\n",
      "|2023-100079|29            |RUE JEANNETTE   |10000      |Troyes              |220000.0       |Maison     |220000.0                       |1964.2857142857142|112                |112           |\n",
      "|2023-100088|30            |BD VICTOR HUGO  |10000      |Troyes              |240000.0       |Dépendance |NULL                           |NULL              |NULL               |133           |\n",
      "|2023-100088|30            |BD VICTOR HUGO  |10000      |Troyes              |240000.0       |Appartement|240000.0                       |1804.5112781954888|133                |133           |\n",
      "|2023-100088|30            |BD VICTOR HUGO  |10000      |Troyes              |240000.0       |Dépendance |NULL                           |NULL              |NULL               |133           |\n",
      "+-----------+--------------+----------------+-----------+--------------------+---------------+-----------+-------------------------------+------------------+-------------------+--------------+\n",
      "only showing top 20 rows\n",
      "\n"
     ]
    }
   ],
   "execution_count": 8
  },
  {
   "metadata": {
    "ExecuteTime": {
     "end_time": "2024-09-01T11:30:57.629242Z",
     "start_time": "2024-09-01T11:30:49.977095Z"
    }
   },
   "cell_type": "code",
   "source": "df_final.select(\"code_nature_culture\", \"nature_culture\").distinct().show()",
   "id": "9161fef0fcd82139",
   "outputs": [
    {
     "name": "stdout",
     "output_type": "stream",
     "text": [
      "+-------------------+-------------------+\n",
      "|code_nature_culture|     nature_culture|\n",
      "+-------------------+-------------------+\n",
      "|                  E|               eaux|\n",
      "|                 BM|     futaies mixtes|\n",
      "|                 LB|     landes boisées|\n",
      "|                  T|             terres|\n",
      "|                 BS|taillis sous futaie|\n",
      "|                 PA|            pâtures|\n",
      "|                 BO|           oseraies|\n",
      "|                 BF|  futaies feuillues|\n",
      "|                  B|               bois|\n",
      "|                 AG|terrains d'agrément|\n",
      "|                 PC|            pacages|\n",
      "|                 CA|          carrières|\n",
      "|                 BT|    taillis simples|\n",
      "|                  J|            jardins|\n",
      "|                 PP|       prés plantes|\n",
      "|                 BP|        peupleraies|\n",
      "|                 TP|    terres plantées|\n",
      "|                  P|               prés|\n",
      "|                 CH|      chemin de fer|\n",
      "|                 BR| futaies résineuses|\n",
      "+-------------------+-------------------+\n",
      "only showing top 20 rows\n",
      "\n"
     ]
    }
   ],
   "execution_count": 9
  },
  {
   "metadata": {
    "ExecuteTime": {
     "end_time": "2024-09-01T11:31:09.339906Z",
     "start_time": "2024-09-01T11:30:57.772767Z"
    }
   },
   "cell_type": "code",
   "source": [
    "print(\"Nombre de lignes avant filtrage : \", df_final.count())\n",
    "df_final = df_final.filter(\n",
    "    (col(\"code_nature_culture\").isNotNull() & (col(\"code_nature_culture\") == \"S\")) \n",
    ")\n",
    "print(\"Nombre de lignes après filtrage : \", df_final.count())"
   ],
   "id": "bd732a5472e86836",
   "outputs": [
    {
     "name": "stdout",
     "output_type": "stream",
     "text": [
      "Nombre de lignes avant filtrage :  1298759\n",
      "Nombre de lignes après filtrage :  428633\n"
     ]
    }
   ],
   "execution_count": 10
  },
  {
   "metadata": {
    "ExecuteTime": {
     "end_time": "2024-09-01T11:31:20.637291Z",
     "start_time": "2024-09-01T11:31:09.373145Z"
    }
   },
   "cell_type": "code",
   "source": [
    "from pyspark.sql.functions import count\n",
    "\n",
    "# Filtrage des lignes qui ont des id_mutation et valeur_fonciere identiques\n",
    "duplicate_rows = df_final.groupBy(\"id_mutation\", \"valeur_fonciere\") \\\n",
    "                   .agg(count(\"*\").alias(\"count\")) \\\n",
    "                   .filter(col(\"count\") > 1)\n",
    "\n",
    "# Joindre les lignes dupliquées avec le DataFrame original pour récupérer toutes les colonnes\n",
    "duplicate_details = df_final.join(duplicate_rows, [\"id_mutation\", \"valeur_fonciere\"], \"inner\")\n",
    "\n",
    "# Affichage des lignes dupliquées\n",
    "duplicate_details.show(truncate=False)"
   ],
   "id": "36f7923f6cc56793",
   "outputs": [
    {
     "name": "stdout",
     "output_type": "stream",
     "text": [
      "+-----------+---------------+-------------+------------------+---------------+--------------+---------------+----------------------------+-----------------+-----------+------------+------------------+----------------+-------------------+------------------+--------------+------------------+-------------+-----------+-------------------+-----------+-------------------+-----------+-------------------+-----------+-------------------+-----------+-------------------+-----------+---------------+----------+-------------------+-------------------------+-------------------+--------------+----------------------------+-----------------------+---------------+---------+---------+--------------+-------------------------------+------------------+-----+\n",
      "|id_mutation|valeur_fonciere|date_mutation|numero_disposition|nature_mutation|adresse_numero|adresse_suffixe|adresse_nom_voie            |adresse_code_voie|code_postal|code_commune|nom_commune       |code_departement|ancien_code_commune|ancien_nom_commune|id_parcelle   |ancien_id_parcelle|numero_volume|lot1_numero|lot1_surface_carrez|lot2_numero|lot2_surface_carrez|lot3_numero|lot3_surface_carrez|lot4_numero|lot4_surface_carrez|lot5_numero|lot5_surface_carrez|nombre_lots|code_type_local|type_local|surface_reelle_bati|nombre_pieces_principales|code_nature_culture|nature_culture|code_nature_culture_speciale|nature_culture_speciale|surface_terrain|longitude|latitude |surface_totale|valeur_fonciere_proportionnelle|prix_m2           |count|\n",
      "+-----------+---------------+-------------+------------------+---------------+--------------+---------------+----------------------------+-----------------+-----------+------------+------------------+----------------+-------------------+------------------+--------------+------------------+-------------+-----------+-------------------+-----------+-------------------+-----------+-------------------+-----------+-------------------+-----------+-------------------+-----------+---------------+----------+-------------------+-------------------------+-------------------+--------------+----------------------------+-----------------------+---------------+---------+---------+--------------+-------------------------------+------------------+-----+\n",
      "|2023-102678|313700.0       |2023-09-18   |1                 |Vente          |214           |NULL           |CORTIN NEPLIER              |B021             |10190      |10240       |Messon            |10              |NULL               |NULL              |10240000ZO0045|NULL              |NULL         |NULL       |NULL               |NULL       |NULL               |NULL       |NULL               |NULL       |NULL               |NULL       |NULL               |0          |3              |Dépendance|NULL               |0                        |S                  |sols          |NULL                        |NULL                   |500            |3.911579 |48.258832|270           |NULL                           |NULL              |2    |\n",
      "|2023-102678|313700.0       |2023-09-18   |1                 |Vente          |214           |NULL           |CORTIN NEPLIER              |B021             |10190      |10240       |Messon            |10              |NULL               |NULL              |10240000ZO0045|NULL              |NULL         |NULL       |NULL               |NULL       |NULL               |NULL       |NULL               |NULL       |NULL               |NULL       |NULL               |0          |1              |Maison    |135                |6                        |S                  |sols          |NULL                        |NULL                   |500            |3.911579 |48.258832|270           |156850.0                       |1161.851851851852 |2    |\n",
      "|2023-144681|310000.0       |2023-01-27   |1                 |Vente          |4             |NULL           |PL DU BARRI                 |0510             |13790      |13072       |Peynier           |13              |NULL               |NULL              |13072000AC0155|NULL              |NULL         |NULL       |NULL               |NULL       |NULL               |NULL       |NULL               |NULL       |NULL               |NULL       |NULL               |0          |1              |Maison    |66                 |5                        |S                  |sols          |NULL                        |NULL                   |41             |5.640264 |43.448012|66            |310000.0                       |4696.969696969697 |2    |\n",
      "|2023-144681|310000.0       |2023-01-27   |1                 |Vente          |6             |NULL           |RUE DU BARRI                |0515             |13790      |13072       |Peynier           |13              |NULL               |NULL              |13072000AC0156|NULL              |NULL         |NULL       |NULL               |NULL       |NULL               |NULL       |NULL               |NULL       |NULL               |NULL       |NULL               |0          |NULL           |NULL      |NULL               |NULL                     |S                  |sols          |NULL                        |NULL                   |25             |5.64027  |43.447973|66            |NULL                           |NULL              |2    |\n",
      "|2023-168848|800000.0       |2023-06-22   |1                 |Vente          |29            |B              |RUE HENRI FOUCHARD          |0740             |14510      |14338       |Houlgate          |14              |NULL               |NULL              |14338000AE0098|NULL              |NULL         |NULL       |NULL               |NULL       |NULL               |NULL       |NULL               |NULL       |NULL               |NULL       |NULL               |0          |3              |Dépendance|NULL               |0                        |S                  |sols          |NULL                        |NULL                   |605            |-0.077245|49.303024|250           |NULL                           |NULL              |3    |\n",
      "|2023-168848|800000.0       |2023-06-22   |1                 |Vente          |29            |B              |RUE HENRI FOUCHARD          |0740             |14510      |14338       |Houlgate          |14              |NULL               |NULL              |14338000AE0098|NULL              |NULL         |NULL       |NULL               |NULL       |NULL               |NULL       |NULL               |NULL       |NULL               |NULL       |NULL               |0          |1              |Maison    |250                |9                        |S                  |sols          |NULL                        |NULL                   |605            |-0.077245|49.303024|250           |800000.0                       |3200.0            |3    |\n",
      "|2023-168848|800000.0       |2023-06-22   |1                 |Vente          |29            |B              |RUE HENRI FOUCHARD          |0740             |14510      |14338       |Houlgate          |14              |NULL               |NULL              |14338000AE0098|NULL              |NULL         |NULL       |NULL               |NULL       |NULL               |NULL       |NULL               |NULL       |NULL               |NULL       |NULL               |0          |3              |Dépendance|NULL               |0                        |S                  |sols          |NULL                        |NULL                   |605            |-0.077245|49.303024|250           |NULL                           |NULL              |3    |\n",
      "|2023-177613|135000.0       |2023-12-12   |1                 |Vente          |12            |NULL           |RUE ANDRE VAUBAILLON - CONDE|0027             |14110      |14174       |Condé-en-Normandie|14              |NULL               |NULL              |14174000CI0074|NULL              |NULL         |NULL       |NULL               |NULL       |NULL               |NULL       |NULL               |NULL       |NULL               |NULL       |NULL               |0          |3              |Dépendance|NULL               |0                        |S                  |sols          |NULL                        |NULL                   |727            |-0.547835|48.853005|100           |NULL                           |NULL              |3    |\n",
      "|2023-177613|135000.0       |2023-12-12   |1                 |Vente          |12            |NULL           |RUE ANDRE VAUBAILLON - CONDE|0027             |14110      |14174       |Condé-en-Normandie|14              |NULL               |NULL              |14174000CI0074|NULL              |NULL         |NULL       |NULL               |NULL       |NULL               |NULL       |NULL               |NULL       |NULL               |NULL       |NULL               |0          |3              |Dépendance|NULL               |0                        |S                  |sols          |NULL                        |NULL                   |727            |-0.547835|48.853005|100           |NULL                           |NULL              |3    |\n",
      "|2023-177613|135000.0       |2023-12-12   |1                 |Vente          |12            |NULL           |RUE ANDRE VAUBAILLON - CONDE|0027             |14110      |14174       |Condé-en-Normandie|14              |NULL               |NULL              |14174000CI0074|NULL              |NULL         |NULL       |NULL               |NULL       |NULL               |NULL       |NULL               |NULL       |NULL               |NULL       |NULL               |0          |1              |Maison    |100                |4                        |S                  |sols          |NULL                        |NULL                   |727            |-0.547835|48.853005|100           |135000.0                       |1350.0            |3    |\n",
      "|2023-185692|165000.0       |2023-04-28   |1                 |Vente          |9             |NULL           |RUE DES BORDERIES           |0020             |16370      |16097       |Cherves-Richemont |16              |NULL               |NULL              |16097000AS0146|NULL              |NULL         |NULL       |NULL               |NULL       |NULL               |NULL       |NULL               |NULL       |NULL               |NULL       |NULL               |0          |1              |Maison    |86                 |5                        |S                  |sols          |NULL                        |NULL                   |750            |-0.354522|45.736773|86            |165000.0                       |1918.6046511627908|3    |\n",
      "|2023-185692|165000.0       |2023-04-28   |1                 |Vente          |9             |NULL           |RUE DES BORDERIES           |0020             |16370      |16097       |Cherves-Richemont |16              |NULL               |NULL              |16097000AS0146|NULL              |NULL         |NULL       |NULL               |NULL       |NULL               |NULL       |NULL               |NULL       |NULL               |NULL       |NULL               |0          |3              |Dépendance|NULL               |0                        |S                  |sols          |NULL                        |NULL                   |750            |-0.354522|45.736773|86            |NULL                           |NULL              |3    |\n",
      "|2023-185692|165000.0       |2023-04-28   |1                 |Vente          |9             |NULL           |RUE DES BORDERIES           |0020             |16370      |16097       |Cherves-Richemont |16              |NULL               |NULL              |16097000AS0146|NULL              |NULL         |NULL       |NULL               |NULL       |NULL               |NULL       |NULL               |NULL       |NULL               |NULL       |NULL               |0          |3              |Dépendance|NULL               |0                        |S                  |sols          |NULL                        |NULL                   |750            |-0.354522|45.736773|86            |NULL                           |NULL              |3    |\n",
      "|2023-202181|1050000.0      |2023-09-19   |1                 |Vente          |NULL          |NULL           |CHE DE BOUGAINVILLE         |0164             |17880      |17286       |Les Portes-en-Ré  |17              |NULL               |NULL              |17286000BA0063|NULL              |NULL         |NULL       |NULL               |NULL       |NULL               |NULL       |NULL               |NULL       |NULL               |NULL       |NULL               |0          |NULL           |NULL      |NULL               |NULL                     |S                  |sols          |NULL                        |NULL                   |20             |-1.482915|46.236731|276           |NULL                           |NULL              |5    |\n",
      "|2023-202181|1050000.0      |2023-09-19   |1                 |Vente          |NULL          |NULL           |RTE DU FIER                 |0423             |17880      |17286       |Les Portes-en-Ré  |17              |NULL               |NULL              |17286000BA0065|NULL              |NULL         |NULL       |NULL               |NULL       |NULL               |NULL       |NULL               |NULL       |NULL               |NULL       |NULL               |0          |NULL           |NULL      |NULL               |NULL                     |S                  |sols          |NULL                        |NULL                   |2253           |-1.484608|46.236432|276           |NULL                           |NULL              |5    |\n",
      "|2023-202181|1050000.0      |2023-09-19   |1                 |Vente          |NULL          |NULL           |RTE DE LA PATACHE           |0962             |17880      |17286       |Les Portes-en-Ré  |17              |NULL               |NULL              |17286000BC0083|NULL              |NULL         |NULL       |NULL               |NULL       |NULL               |NULL       |NULL               |NULL       |NULL               |NULL       |NULL               |0          |NULL           |NULL      |NULL               |NULL                     |S                  |sols          |NULL                        |NULL                   |24             |-1.481664|46.23233 |276           |NULL                           |NULL              |5    |\n",
      "|2023-202181|1050000.0      |2023-09-19   |1                 |Vente          |27            |NULL           |IMP DES KERGUELENS          |0770             |17880      |17286       |Les Portes-en-Ré  |17              |NULL               |NULL              |17286000BC0088|NULL              |NULL         |NULL       |NULL               |NULL       |NULL               |NULL       |NULL               |NULL       |NULL               |NULL       |NULL               |0          |1              |Maison    |138                |6                        |S                  |sols          |NULL                        |NULL                   |723            |-1.483631|46.232076|276           |525000.0                       |3804.3478260869565|5    |\n",
      "|2023-202181|1050000.0      |2023-09-19   |1                 |Vente          |27            |NULL           |IMP DES KERGUELENS          |0770             |17880      |17286       |Les Portes-en-Ré  |17              |NULL               |NULL              |17286000BC0088|NULL              |NULL         |NULL       |NULL               |NULL       |NULL               |NULL       |NULL               |NULL       |NULL               |NULL       |NULL               |0          |3              |Dépendance|NULL               |0                        |S                  |sols          |NULL                        |NULL                   |723            |-1.483631|46.232076|276           |NULL                           |NULL              |5    |\n",
      "|2023-214329|88000.0        |2023-01-23   |1                 |Vente          |10            |NULL           |RUE DU MOULIN A VENT        |0720             |18370      |18057       |Châteaumeillant   |18              |NULL               |NULL              |18057000AE0172|NULL              |NULL         |NULL       |NULL               |NULL       |NULL               |NULL       |NULL               |NULL       |NULL               |NULL       |NULL               |0          |3              |Dépendance|NULL               |0                        |S                  |sols          |NULL                        |NULL                   |350            |2.210079 |46.563833|144           |NULL                           |NULL              |2    |\n",
      "|2023-214329|88000.0        |2023-01-23   |1                 |Vente          |10            |NULL           |RUE DU MOULIN A VENT        |0720             |18370      |18057       |Châteaumeillant   |18              |NULL               |NULL              |18057000AE0172|NULL              |NULL         |NULL       |NULL               |NULL       |NULL               |NULL       |NULL               |NULL       |NULL               |NULL       |NULL               |0          |1              |Maison    |72                 |2                        |S                  |sols          |NULL                        |NULL                   |350            |2.210079 |46.563833|144           |44000.0                        |611.1111111111111 |2    |\n",
      "+-----------+---------------+-------------+------------------+---------------+--------------+---------------+----------------------------+-----------------+-----------+------------+------------------+----------------+-------------------+------------------+--------------+------------------+-------------+-----------+-------------------+-----------+-------------------+-----------+-------------------+-----------+-------------------+-----------+-------------------+-----------+---------------+----------+-------------------+-------------------------+-------------------+--------------+----------------------------+-----------------------+---------------+---------+---------+--------------+-------------------------------+------------------+-----+\n",
      "only showing top 20 rows\n",
      "\n"
     ]
    }
   ],
   "execution_count": 11
  },
  {
   "metadata": {
    "ExecuteTime": {
     "end_time": "2024-09-01T11:31:26.173777Z",
     "start_time": "2024-09-01T11:31:20.733711Z"
    }
   },
   "cell_type": "code",
   "source": [
    "from pyspark.sql.functions import radians\n",
    "\n",
    "# Appliquer la conversion aux colonnes longitude et latitude\n",
    "df_final = df_final.withColumn('longitude_r', radians(col('longitude')))\n",
    "df_final = df_final.withColumn('latitude_r', radians(col('latitude')))\n",
    "\n",
    "# Sélection des colonnes requises\n",
    "df_final.select(\n",
    "    \"id_mutation\", \"date_mutation\", \"valeur_fonciere\", \"prix_m2\", \"code_postal\", \"type_local\", \"surface_reelle_bati\", \"valeur_fonciere_proportionnelle\", \"surface_reelle_bati\", \"surface_totale\", \"longitude_r\", \"latitude_r\"\n",
    ").show(20)\n",
    "\n",
    "# Optionnel : enregistrer le dataset filtré dans un nouveau fichier CSV\n",
    "# data.write.option(\"header\", \"true\").csv(\"path_to_save_filtered_dataset.csv\")"
   ],
   "id": "e938f4ceed59f717",
   "outputs": [
    {
     "name": "stdout",
     "output_type": "stream",
     "text": [
      "+-----------+-------------+---------------+------------------+-----------+----------+-------------------+-------------------------------+-------------------+--------------+-------------------+------------------+\n",
      "|id_mutation|date_mutation|valeur_fonciere|           prix_m2|code_postal|type_local|surface_reelle_bati|valeur_fonciere_proportionnelle|surface_reelle_bati|surface_totale|        longitude_r|        latitude_r|\n",
      "+-----------+-------------+---------------+------------------+-----------+----------+-------------------+-------------------------------+-------------------+--------------+-------------------+------------------+\n",
      "|2023-100028|   2023-05-26|        50000.0| 602.4096385542168|      10130|    Maison|                 83|                        50000.0|                 83|            83|0.06716293997049735| 0.839310371700587|\n",
      "|2023-100028|   2023-05-26|        50000.0|              NULL|      10130|Dépendance|               NULL|                           NULL|               NULL|            83|0.06716293997049735| 0.839310371700587|\n",
      "|2023-100053|   2023-05-02|       220000.0|              NULL|      10190|Dépendance|               NULL|                           NULL|               NULL|           150|0.06733689693704363|0.8423437364872606|\n",
      "|2023-100053|   2023-05-02|       220000.0|              NULL|      10190|Dépendance|               NULL|                           NULL|               NULL|           150|0.06733689693704363|0.8423437364872606|\n",
      "|2023-100053|   2023-05-02|       220000.0|1466.6666666666667|      10190|    Maison|                150|                       220000.0|                150|           150|0.06733689693704363|0.8423437364872606|\n",
      "|2023-100053|   2023-05-02|       220000.0|              NULL|      10190|Dépendance|               NULL|                           NULL|               NULL|           150|0.06733689693704363|0.8423437364872606|\n",
      "|2023-100055|   2023-05-05|         8495.0|              NULL|      10400|      NULL|               NULL|                           NULL|               NULL|          NULL|0.06259424394742935|0.8461859566624784|\n",
      "|2023-100065|   2023-05-23|            1.0|              NULL|      10340|      NULL|               NULL|                           NULL|               NULL|          NULL|0.07618032317726622|0.8375021233290583|\n",
      "|2023-100079|   2023-06-01|       220000.0|1964.2857142857142|      10000|    Maison|                112|                       220000.0|                112|           112|0.07135457506196449|0.8426882644816043|\n",
      "|2023-100109|   2023-05-31|       281112.0|           2811.12|      10120|    Maison|                100|                       281112.0|                100|           100|0.07038183325665796|0.8426181720588442|\n",
      "|2023-100109|   2023-05-31|       281112.0|              NULL|      10120|      NULL|               NULL|                           NULL|               NULL|           100|0.07038556826125725|0.8426185385779871|\n",
      "|2023-100128|   2023-06-01|       205500.0|              NULL|      10150|Dépendance|               NULL|                           NULL|               NULL|           138| 0.0715200671816386|0.8433966587184036|\n",
      "|2023-100128|   2023-06-01|       205500.0|1489.1304347826087|      10150|    Maison|                138|                       205500.0|                138|           138| 0.0715200671816386|0.8433966587184036|\n",
      "|2023-100148|   2023-05-22|       265250.0| 2575.242718446602|      10150|    Maison|                103|                       265250.0|                103|           103|0.07157282848492638|0.8433096366018993|\n",
      "|2023-100166|   2023-05-23|       100000.0| 1923.076923076923|      10190|    Maison|                 52|                       100000.0|                 52|            52|0.06683494024417005|  0.84319432269822|\n",
      "|2023-100187|   2023-05-26|       182000.0|2333.3333333333335|      10400|    Maison|                 78|                       182000.0|                 78|            78|0.06104927849356398|0.8471878803728783|\n",
      "|2023-100192|   2023-05-17|         1500.0|              NULL|      10140|      NULL|               NULL|                           NULL|               NULL|          NULL| 0.0781274997572537|0.8418503842675994|\n",
      "|2023-100192|   2023-05-17|         1500.0|              NULL|      10140|      NULL|               NULL|                           NULL|               NULL|          NULL|0.07816125442498725|0.8418498083089462|\n",
      "|2023-100269|   2023-05-30|        45000.0|459.18367346938777|      10310|    Maison|                 98|                        45000.0|                 98|            98|0.08349368907543546|0.8412066021197088|\n",
      "|2023-100292|   2023-05-17|       110000.0|1047.6190476190477|      10600|    Maison|                105|                       110000.0|                105|           105|0.07062396278378714|0.8432024035726569|\n",
      "+-----------+-------------+---------------+------------------+-----------+----------+-------------------+-------------------------------+-------------------+--------------+-------------------+------------------+\n",
      "only showing top 20 rows\n",
      "\n"
     ]
    }
   ],
   "execution_count": 12
  },
  {
   "metadata": {
    "ExecuteTime": {
     "end_time": "2024-09-01T11:31:31.827266Z",
     "start_time": "2024-09-01T11:31:26.210794Z"
    }
   },
   "cell_type": "code",
   "source": "df_final.where(col(\"valeur_fonciere\") > 20000000).show(29)",
   "id": "48ef1f4e99422465",
   "outputs": [
    {
     "name": "stdout",
     "output_type": "stream",
     "text": [
      "+-----------+-------------+------------------+---------------+---------------+--------------+---------------+-----------------+-----------------+-----------+------------+--------------------+----------------+-------------------+------------------+--------------+------------------+-------------+-----------+-------------------+-----------+-------------------+-----------+-------------------+-----------+-------------------+-----------+-------------------+-----------+---------------+----------+-------------------+-------------------------+-------------------+--------------+----------------------------+-----------------------+---------------+---------+---------+--------------+-------------------------------+------------------+-------------------+------------------+\n",
      "|id_mutation|date_mutation|numero_disposition|nature_mutation|valeur_fonciere|adresse_numero|adresse_suffixe| adresse_nom_voie|adresse_code_voie|code_postal|code_commune|         nom_commune|code_departement|ancien_code_commune|ancien_nom_commune|   id_parcelle|ancien_id_parcelle|numero_volume|lot1_numero|lot1_surface_carrez|lot2_numero|lot2_surface_carrez|lot3_numero|lot3_surface_carrez|lot4_numero|lot4_surface_carrez|lot5_numero|lot5_surface_carrez|nombre_lots|code_type_local|type_local|surface_reelle_bati|nombre_pieces_principales|code_nature_culture|nature_culture|code_nature_culture_speciale|nature_culture_speciale|surface_terrain|longitude| latitude|surface_totale|valeur_fonciere_proportionnelle|           prix_m2|        longitude_r|        latitude_r|\n",
      "+-----------+-------------+------------------+---------------+---------------+--------------+---------------+-----------------+-----------------+-----------+------------+--------------------+----------------+-------------------+------------------+--------------+------------------+-------------+-----------+-------------------+-----------+-------------------+-----------+-------------------+-----------+-------------------+-----------+-------------------+-----------+---------------+----------+-------------------+-------------------------+-------------------+--------------+----------------------------+-----------------------+---------------+---------+---------+--------------+-------------------------------+------------------+-------------------+------------------+\n",
      "| 2023-58492|   2023-12-21|                 1|          Vente|          3.9E7|            42|           NULL| AV DENIS SEMERIA|             0140|       6230|       06121|Saint-Jean-Cap-Fe...|              06|               NULL|              NULL|06121000AB0116|              NULL|         NULL|       NULL|               NULL|       NULL|               NULL|       NULL|               NULL|       NULL|               NULL|       NULL|               NULL|          0|           NULL|      NULL|               NULL|                     NULL|                  S|          sols|                        NULL|                   NULL|              7| 7.329253|43.691991|           704|                           NULL|              NULL|0.12791959656167196|0.7625690997017298|\n",
      "| 2023-58492|   2023-12-21|                 1|          Vente|          3.9E7|            42|              B| AV DENIS SEMERIA|             0140|       6230|       06121|Saint-Jean-Cap-Fe...|              06|               NULL|              NULL|06121000AB0115|              NULL|         NULL|       NULL|               NULL|       NULL|               NULL|       NULL|               NULL|       NULL|               NULL|       NULL|               NULL|          0|              3|Dépendance|               NULL|                        0|                  S|          sols|                        NULL|                   NULL|            118| 7.329963|43.692294|           704|                           NULL|              NULL|0.12793198839936112|0.7625743880493633|\n",
      "| 2023-58492|   2023-12-21|                 1|          Vente|          3.9E7|            42|              B| AV DENIS SEMERIA|             0140|       6230|       06121|Saint-Jean-Cap-Fe...|              06|               NULL|              NULL|06121000AB0115|              NULL|         NULL|       NULL|               NULL|       NULL|               NULL|       NULL|               NULL|       NULL|               NULL|       NULL|               NULL|          0|              1|    Maison|                147|                        4|                  S|          sols|                        NULL|                   NULL|            118| 7.329963|43.692294|           704|              8143465.909090909| 55397.72727272727|0.12793198839936112|0.7625743880493633|\n",
      "| 2023-58492|   2023-12-21|                 1|          Vente|          3.9E7|            42|           NULL| AV DENIS SEMERIA|             0140|       6230|       06121|Saint-Jean-Cap-Fe...|              06|               NULL|              NULL|06121000AB0114|              NULL|         NULL|       NULL|               NULL|       NULL|               NULL|       NULL|               NULL|       NULL|               NULL|       NULL|               NULL|          0|           NULL|      NULL|               NULL|                     NULL|                  S|          sols|                        NULL|                   NULL|            450| 7.329859|43.692505|           704|                           NULL|              NULL|0.12793017325693903| 0.762578070694085|\n",
      "| 2023-58492|   2023-12-21|                 1|          Vente|          3.9E7|            42|              A| AV DENIS SEMERIA|             0140|       6230|       06121|Saint-Jean-Cap-Fe...|              06|               NULL|              NULL|06121000AB0112|              NULL|         NULL|       NULL|               NULL|       NULL|               NULL|       NULL|               NULL|       NULL|               NULL|       NULL|               NULL|          0|              1|    Maison|                205|                        5|                  S|          sols|                        NULL|                   NULL|            160| 7.329306|43.692384|           704|           1.1356534090909092E7| 55397.72727272728| 0.1279205215861755|0.7625759588456901|\n",
      "| 2023-58492|   2023-12-21|                 1|          Vente|          3.9E7|            42|              A| AV DENIS SEMERIA|             0140|       6230|       06121|Saint-Jean-Cap-Fe...|              06|               NULL|              NULL|06121000AB0112|              NULL|         NULL|       NULL|               NULL|       NULL|               NULL|       NULL|               NULL|       NULL|               NULL|       NULL|               NULL|          0|              3|Dépendance|               NULL|                        0|                  S|          sols|                        NULL|                   NULL|            160| 7.329306|43.692384|           704|                           NULL|              NULL| 0.1279205215861755|0.7625759588456901|\n",
      "| 2023-61508|   2023-02-10|                 1|          Vente|          2.4E7|           128|           NULL|    CHE DU SANTON|             0957|       6250|       06085|             Mougins|              06|               NULL|              NULL|06085000AS0188|              NULL|         NULL|       NULL|               NULL|       NULL|               NULL|       NULL|               NULL|       NULL|               NULL|       NULL|               NULL|          0|              3|Dépendance|               NULL|                        0|                  S|          sols|                        NULL|                   NULL|           1000| 7.002035|43.609495|          2160|                           NULL|              NULL|0.12220856508988116|0.7611292728820046|\n",
      "| 2023-61508|   2023-02-10|                 1|          Vente|          2.4E7|           128|           NULL|    CHE DU SANTON|             0957|       6250|       06085|             Mougins|              06|               NULL|              NULL|06085000AS0188|              NULL|         NULL|       NULL|               NULL|       NULL|               NULL|       NULL|               NULL|       NULL|               NULL|       NULL|               NULL|          0|              3|Dépendance|               NULL|                        0|                  S|          sols|                        NULL|                   NULL|           1000| 7.002035|43.609495|          2160|                           NULL|              NULL|0.12220856508988116|0.7611292728820046|\n",
      "| 2023-61508|   2023-02-10|                 1|          Vente|          2.4E7|           128|           NULL|    CHE DU SANTON|             0957|       6250|       06085|             Mougins|              06|               NULL|              NULL|06085000AS0188|              NULL|         NULL|       NULL|               NULL|       NULL|               NULL|       NULL|               NULL|       NULL|               NULL|       NULL|               NULL|          0|              1|    Maison|                 80|                        3|                  S|          sols|                        NULL|                   NULL|           1000| 7.002035|43.609495|          2160|              888888.8888888889|11111.111111111111|0.12220856508988116|0.7611292728820046|\n",
      "| 2023-61508|   2023-02-10|                 1|          Vente|          2.4E7|           128|           NULL|    CHE DU SANTON|             0957|       6250|       06085|             Mougins|              06|               NULL|              NULL|06085000AS0188|              NULL|         NULL|       NULL|               NULL|       NULL|               NULL|       NULL|               NULL|       NULL|               NULL|       NULL|               NULL|          0|              1|    Maison|               1000|                       10|                  S|          sols|                        NULL|                   NULL|           1000| 7.002035|43.609495|          2160|           1.1111111111111112E7|11111.111111111111|0.12220856508988116|0.7611292728820046|\n",
      "| 2023-60254|   2023-01-30|                 1|          Vente|      5.36472E7|          NULL|           NULL|RUE HENRI LAUGIER|             1571|       6600|       06004|             Antibes|              06|               NULL|              NULL|06004000HA0014|              NULL|         NULL|       NULL|               NULL|       NULL|               NULL|       NULL|               NULL|       NULL|               NULL|       NULL|               NULL|          0|           NULL|      NULL|               NULL|                     NULL|                  S|          sols|                        NULL|                   NULL|          16530| 7.080883|43.605467|          NULL|                           NULL|              NULL|0.12358472229849364|0.7610589710197342|\n",
      "| 2023-60254|   2023-01-30|                 1|          Vente|      5.36472E7|          NULL|           NULL|RUE HENRI LAUGIER|             1571|       6600|       06004|             Antibes|              06|               NULL|              NULL|06004000HA0012|              NULL|         NULL|       NULL|               NULL|       NULL|               NULL|       NULL|               NULL|       NULL|               NULL|       NULL|               NULL|          0|           NULL|      NULL|               NULL|                     NULL|                  S|          sols|                        NULL|                   NULL|          31118| 7.080737|43.603998|          NULL|                           NULL|              NULL|0.12358217411778573|0.7610333321330224|\n",
      "| 2023-65397|   2023-04-18|                 1|          Vente|          4.8E7|            68|           NULL|        BD DU CAP|             0620|       6160|       06004|             Antibes|              06|               NULL|              NULL|06004000CK0165|              NULL|         NULL|       NULL|               NULL|       NULL|               NULL|       NULL|               NULL|       NULL|               NULL|       NULL|               NULL|          0|              3|Dépendance|               NULL|                        0|                  S|          sols|                        NULL|                   NULL|            520| 7.125185|43.560701|          1846|                           NULL|              NULL|0.12435793806371218|0.7602776569267865|\n",
      "| 2023-65397|   2023-04-18|                 1|          Vente|          4.8E7|            68|           NULL|        BD DU CAP|             0620|       6160|       06004|             Antibes|              06|               NULL|              NULL|06004000CK0165|              NULL|         NULL|       NULL|               NULL|       NULL|               NULL|       NULL|               NULL|       NULL|               NULL|       NULL|               NULL|          0|              3|Dépendance|               NULL|                        0|                  S|          sols|                        NULL|                   NULL|            520| 7.125185|43.560701|          1846|                           NULL|              NULL|0.12435793806371218|0.7602776569267865|\n",
      "| 2023-65397|   2023-04-18|                 1|          Vente|          4.8E7|            68|           NULL|        BD DU CAP|             0620|       6160|       06004|             Antibes|              06|               NULL|              NULL|06004000CK0165|              NULL|         NULL|       NULL|               NULL|       NULL|               NULL|       NULL|               NULL|       NULL|               NULL|       NULL|               NULL|          0|              1|    Maison|                162|                        3|                  S|          sols|                        NULL|                   NULL|            520| 7.125185|43.560701|          1846|              4212351.029252438| 26002.16684723727|0.12435793806371218|0.7602776569267865|\n",
      "| 2023-65397|   2023-04-18|                 1|          Vente|          4.8E7|            24|           NULL|  CHE DES NIELLES|             2250|       6160|       06004|             Antibes|              06|               NULL|              NULL|06004000CK0164|              NULL|         NULL|       NULL|               NULL|       NULL|               NULL|       NULL|               NULL|       NULL|               NULL|       NULL|               NULL|          0|              3|Dépendance|               NULL|                        0|                  S|          sols|                        NULL|                   NULL|            515| 7.125222|43.560335|          1846|                           NULL|              NULL|0.12435858383553541|0.7602712690217241|\n",
      "| 2023-65397|   2023-04-18|                 1|          Vente|          4.8E7|            24|           NULL|  CHE DES NIELLES|             2250|       6160|       06004|             Antibes|              06|               NULL|              NULL|06004000CK0164|              NULL|         NULL|       NULL|               NULL|       NULL|               NULL|       NULL|               NULL|       NULL|               NULL|       NULL|               NULL|          0|              3|Dépendance|               NULL|                        0|                  S|          sols|                        NULL|                   NULL|            515| 7.125222|43.560335|          1846|                           NULL|              NULL|0.12435858383553541|0.7602712690217241|\n",
      "| 2023-65397|   2023-04-18|                 1|          Vente|          4.8E7|            24|           NULL|  CHE DES NIELLES|             2250|       6160|       06004|             Antibes|              06|               NULL|              NULL|06004000CK0164|              NULL|         NULL|       NULL|               NULL|       NULL|               NULL|       NULL|               NULL|       NULL|               NULL|       NULL|               NULL|          0|              1|    Maison|                110|                        4|                  S|          sols|                        NULL|                   NULL|            515| 7.125222|43.560335|          1846|                2860238.3531961|26002.166847237273|0.12435858383553541|0.7602712690217241|\n",
      "| 2023-65397|   2023-04-18|                 1|          Vente|          4.8E7|            68|           NULL|        BD DU CAP|             0620|       6160|       06004|             Antibes|              06|               NULL|              NULL|06004000CK0163|              NULL|         NULL|       NULL|               NULL|       NULL|               NULL|       NULL|               NULL|       NULL|               NULL|       NULL|               NULL|          0|              1|    Maison|                170|                        3|                  S|          sols|                        NULL|                   NULL|            192| 7.124338| 43.56041|          1846|              4420368.364030336| 26002.16684723727|0.12434315512494777|0.7602725780186631|\n",
      "| 2023-65397|   2023-04-18|                 1|          Vente|          4.8E7|            68|           NULL|        BD DU CAP|             0620|       6160|       06004|             Antibes|              06|               NULL|              NULL|06004000CK0162|              NULL|         NULL|       NULL|               NULL|       NULL|               NULL|       NULL|               NULL|       NULL|               NULL|       NULL|               NULL|          0|              1|    Maison|                213|                        5|                  S|          sols|                        NULL|                   NULL|            488| 7.124006|43.560788|          1846|              5538461.538461539|26002.166847237273|0.12433736063183115|0.7602791753632357|\n",
      "| 2023-65397|   2023-04-18|                 1|          Vente|          4.8E7|            68|           NULL|        BD DU CAP|             0620|       6160|       06004|             Antibes|              06|               NULL|              NULL|06004000CK0162|              NULL|         NULL|       NULL|               NULL|       NULL|               NULL|       NULL|               NULL|       NULL|               NULL|       NULL|               NULL|          0|              3|Dépendance|               NULL|                        0|                  S|          sols|                        NULL|                   NULL|            488| 7.124006|43.560788|          1846|                           NULL|              NULL|0.12433736063183115|0.7602791753632357|\n",
      "| 2023-65397|   2023-04-18|                 1|          Vente|          4.8E7|            68|           NULL|        BD DU CAP|             0620|       6160|       06004|             Antibes|              06|               NULL|              NULL|06004000CK0161|              NULL|         NULL|       NULL|               NULL|       NULL|               NULL|       NULL|               NULL|       NULL|               NULL|       NULL|               NULL|          0|              3|Dépendance|               NULL|                        0|                  S|          sols|                        NULL|                   NULL|            765|  7.12533|43.561254|          1846|                           NULL|              NULL|0.12436046879112755|0.7602873085975499|\n",
      "| 2023-65397|   2023-04-18|                 1|          Vente|          4.8E7|            68|           NULL|        BD DU CAP|             0620|       6160|       06004|             Antibes|              06|               NULL|              NULL|06004000CK0161|              NULL|         NULL|       NULL|               NULL|       NULL|               NULL|       NULL|               NULL|       NULL|               NULL|       NULL|               NULL|          0|              3|Dépendance|               NULL|                        0|                  S|          sols|                        NULL|                   NULL|            765|  7.12533|43.561254|          1846|                           NULL|              NULL|0.12436046879112755|0.7602873085975499|\n",
      "| 2023-65397|   2023-04-18|                 1|          Vente|          4.8E7|            68|           NULL|        BD DU CAP|             0620|       6160|       06004|             Antibes|              06|               NULL|              NULL|06004000CK0161|              NULL|         NULL|       NULL|               NULL|       NULL|               NULL|       NULL|               NULL|       NULL|               NULL|       NULL|               NULL|          0|              1|    Maison|                 54|                        3|                  S|          sols|                        NULL|                   NULL|            765|  7.12533|43.561254|          1846|             1404117.0097508125| 26002.16684723727|0.12436046879112755|0.7602873085975499|\n",
      "| 2023-65397|   2023-04-18|                 1|          Vente|          4.8E7|            68|           NULL|        BD DU CAP|             0620|       6160|       06004|             Antibes|              06|               NULL|              NULL|06004000CK0161|              NULL|         NULL|       NULL|               NULL|       NULL|               NULL|       NULL|               NULL|       NULL|               NULL|       NULL|               NULL|          0|              3|Dépendance|               NULL|                        0|                  S|          sols|                        NULL|                   NULL|            765|  7.12533|43.561254|          1846|                           NULL|              NULL|0.12436046879112755|0.7602873085975499|\n",
      "| 2023-65397|   2023-04-18|                 1|          Vente|          4.8E7|          NULL|           NULL|            EMPEL|             B016|       6600|       06004|             Antibes|              06|               NULL|              NULL|06004000CK0054|              NULL|         NULL|       NULL|               NULL|       NULL|               NULL|       NULL|               NULL|       NULL|               NULL|       NULL|               NULL|          0|           NULL|      NULL|               NULL|                     NULL|                  S|          sols|                        NULL|                   NULL|           4773| 7.124483|43.561276|          1846|                           NULL|              NULL|0.12434568585236316|0.7602876925699854|\n",
      "| 2023-65397|   2023-04-18|                 1|          Vente|          4.8E7|            68|           NULL|        BD DU CAP|             0620|       6160|       06004|             Antibes|              06|               NULL|              NULL|06004000CK0053|              NULL|         NULL|       NULL|               NULL|       NULL|               NULL|       NULL|               NULL|       NULL|               NULL|       NULL|               NULL|          0|              1|    Maison|                214|                        6|                  S|          sols|                        NULL|                   NULL|            695| 7.124865|43.561176|          1846|              5564463.705308775| 26002.16684723727|0.12435235301010579|0.7602859472407335|\n",
      "| 2023-65397|   2023-04-18|                 1|          Vente|          4.8E7|            68|           NULL|        BD DU CAP|             0620|       6160|       06004|             Antibes|              06|               NULL|              NULL|06004000CK0053|              NULL|         NULL|       NULL|               NULL|       NULL|               NULL|       NULL|               NULL|       NULL|               NULL|       NULL|               NULL|          0|              3|Dépendance|               NULL|                        0|                  S|          sols|                        NULL|                   NULL|            695| 7.124865|43.561176|          1846|                           NULL|              NULL|0.12435235301010579|0.7602859472407335|\n",
      "| 2023-65397|   2023-04-18|                 1|          Vente|          4.8E7|            68|           NULL|        BD DU CAP|             0620|       6160|       06004|             Antibes|              06|               NULL|              NULL|06004000CK0053|              NULL|         NULL|       NULL|               NULL|       NULL|               NULL|       NULL|               NULL|       NULL|               NULL|       NULL|               NULL|          0|              3|Dépendance|               NULL|                        0|                  S|          sols|                        NULL|                   NULL|            695| 7.124865|43.561176|          1846|                           NULL|              NULL|0.12435235301010579|0.7602859472407335|\n",
      "+-----------+-------------+------------------+---------------+---------------+--------------+---------------+-----------------+-----------------+-----------+------------+--------------------+----------------+-------------------+------------------+--------------+------------------+-------------+-----------+-------------------+-----------+-------------------+-----------+-------------------+-----------+-------------------+-----------+-------------------+-----------+---------------+----------+-------------------+-------------------------+-------------------+--------------+----------------------------+-----------------------+---------------+---------+---------+--------------+-------------------------------+------------------+-------------------+------------------+\n",
      "only showing top 29 rows\n",
      "\n"
     ]
    }
   ],
   "execution_count": 13
  },
  {
   "metadata": {
    "ExecuteTime": {
     "end_time": "2024-09-01T11:31:43.441373Z",
     "start_time": "2024-09-01T11:31:31.870507Z"
    }
   },
   "cell_type": "code",
   "source": "df_final.write.mode(\"overwrite\").option(\"header\", \"true\").option(\"inferSchema\", \"true\").csv(\"dataset.csv\")",
   "id": "8e26201779c03754",
   "outputs": [],
   "execution_count": 14
  },
  {
   "metadata": {
    "ExecuteTime": {
     "end_time": "2024-09-01T11:31:44.244426Z",
     "start_time": "2024-09-01T11:31:43.520565Z"
    }
   },
   "cell_type": "code",
   "source": "spark.stop()",
   "id": "cc4c2a3b7ae41b1d",
   "outputs": [],
   "execution_count": 15
  },
  {
   "metadata": {
    "ExecuteTime": {
     "end_time": "2024-09-01T11:31:44.292032Z",
     "start_time": "2024-09-01T11:31:44.288493Z"
    }
   },
   "cell_type": "code",
   "source": "",
   "id": "6e8aaace91f09fb2",
   "outputs": [],
   "execution_count": null
  }
 ],
 "metadata": {
  "kernelspec": {
   "display_name": "Python 3",
   "language": "python",
   "name": "python3"
  },
  "language_info": {
   "codemirror_mode": {
    "name": "ipython",
    "version": 2
   },
   "file_extension": ".py",
   "mimetype": "text/x-python",
   "name": "python",
   "nbconvert_exporter": "python",
   "pygments_lexer": "ipython2",
   "version": "2.7.6"
  }
 },
 "nbformat": 4,
 "nbformat_minor": 5
}
